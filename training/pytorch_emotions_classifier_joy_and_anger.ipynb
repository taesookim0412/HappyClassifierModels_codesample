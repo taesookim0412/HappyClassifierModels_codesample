{
 "cells": [
  {
   "cell_type": "code",
   "execution_count": 1,
   "outputs": [],
   "source": [
    "import torch\n",
    "import Models.pytorch_joy_and_anger.joy_and_anger_utils as model_utils"
   ],
   "metadata": {
    "collapsed": false,
    "pycharm": {
     "name": "#%%\n"
    }
   }
  },
  {
   "cell_type": "code",
   "execution_count": 2,
   "outputs": [
    {
     "name": "stdout",
     "output_type": "stream",
     "text": [
      "loaded 7520 items\n",
      "{'joy': 0.0, 'anger': 1.0}\n",
      "('im grabbing a minute to post i feel greedy wrong', 1)\n",
      "loaded 970 items\n",
      "{'joy': 0.0, 'anger': 1.0}\n",
      "('i left with my bouquet of red and yellow tulips under my arm feeling slightly more optimistic than when i arrived', 0)\n"
     ]
    }
   ],
   "source": [
    "train_ds = model_utils.HappyClassifierDataset(\"train.txt\", probabilistic=True)\n",
    "test_ds = model_utils.HappyClassifierDataset(\"test.txt\", probabilistic=True)"
   ],
   "metadata": {
    "collapsed": false,
    "pycharm": {
     "name": "#%%\n"
    }
   }
  },
  {
   "cell_type": "code",
   "execution_count": 3,
   "outputs": [],
   "source": [
    "from torchtext.data.utils import get_tokenizer\n",
    "from torchtext.vocab import build_vocab_from_iterator"
   ],
   "metadata": {
    "collapsed": false,
    "pycharm": {
     "name": "#%%\n"
    }
   }
  },
  {
   "cell_type": "code",
   "execution_count": 4,
   "outputs": [],
   "source": [
    "tokenizer = get_tokenizer('basic_english')"
   ],
   "metadata": {
    "collapsed": false,
    "pycharm": {
     "name": "#%%\n"
    }
   }
  },
  {
   "cell_type": "code",
   "execution_count": 5,
   "outputs": [],
   "source": [
    "vocab = build_vocab_from_iterator(list(map(lambda k: tokenizer(k), [txt for txt, label in train_ds.train_data])), specials=[\"<unk>\"])"
   ],
   "metadata": {
    "collapsed": false,
    "pycharm": {
     "name": "#%%\n"
    }
   }
  },
  {
   "cell_type": "code",
   "execution_count": 6,
   "outputs": [],
   "source": [
    "vocab.set_default_index(vocab[\"<unk>\"])"
   ],
   "metadata": {
    "collapsed": false,
    "pycharm": {
     "name": "#%%\n"
    }
   }
  },
  {
   "cell_type": "code",
   "execution_count": 7,
   "outputs": [
    {
     "data": {
      "text/plain": "[353, 96, 0, 171]"
     },
     "execution_count": 7,
     "metadata": {},
     "output_type": "execute_result"
    }
   ],
   "source": [
    "vocab(['great', 'day', \"we're\", 'having'])"
   ],
   "metadata": {
    "collapsed": false,
    "pycharm": {
     "name": "#%%\n"
    }
   }
  },
  {
   "cell_type": "code",
   "execution_count": 8,
   "outputs": [],
   "source": [
    "# idx 2 has issues"
   ],
   "metadata": {
    "collapsed": false,
    "pycharm": {
     "name": "#%%\n"
    }
   }
  },
  {
   "cell_type": "code",
   "execution_count": 9,
   "outputs": [],
   "source": [
    "text_pipeline = lambda x: vocab(tokenizer(x))\n",
    "label_pipeline = lambda x: x"
   ],
   "metadata": {
    "collapsed": false,
    "pycharm": {
     "name": "#%%\n"
    }
   }
  },
  {
   "cell_type": "code",
   "execution_count": 10,
   "outputs": [],
   "source": [
    "from torch.utils.data import DataLoader\n",
    "device = torch.device(\"cpu\")\n",
    "\n",
    "def collate_batch(batch):\n",
    "    text_list, label_list, offsets = [], [], [0]\n",
    "    for text, label in batch:\n",
    "        processed_text = torch.tensor(text_pipeline(text), dtype=torch.int64)\n",
    "        text_list.append(processed_text)\n",
    "        label_list.append(label_pipeline(label))\n",
    "        offsets.append(processed_text.size(0))\n",
    "    text_list = torch.cat(text_list)\n",
    "    label_list = torch.tensor(label_list, dtype=torch.int64)\n",
    "    offsets = torch.tensor(offsets[:-1]).cumsum(dim=0)\n",
    "    return text_list.to(device), label_list.to(device), offsets.to(device)"
   ],
   "metadata": {
    "collapsed": false,
    "pycharm": {
     "name": "#%%\n"
    }
   }
  },
  {
   "cell_type": "markdown",
   "source": [
    "PyTorch seems to have a LSTM layer (mostly) similar to tf2 so we don't have to create it from scratch here."
   ],
   "metadata": {
    "collapsed": false,
    "pycharm": {
     "name": "#%% md\n"
    }
   }
  },
  {
   "cell_type": "code",
   "execution_count": 11,
   "outputs": [],
   "source": [
    "from torch import nn\n",
    "\n",
    "#TODO: Build a Backward RNN forward pass\n",
    "class HappyClassifierModel(nn.Module):\n",
    "    def __init__(self, vocab_size, embed_dim, num_classes):\n",
    "        super(HappyClassifierModel, self).__init__()\n",
    "        self.embedding = nn.EmbeddingBag(vocab_size, embed_dim, sparse=True)\n",
    "        self.lstm = nn.LSTM(input_size=embed_dim, hidden_size=64)\n",
    "        self.linear1 = nn.Linear(64, 32)\n",
    "\n",
    "        self.fc1 = nn.Sequential(\n",
    "            self.linear1,\n",
    "            nn.ReLU()\n",
    "        )\n",
    "        self.linear2 = nn.Linear(32, 2)\n",
    "        self.fc2 = nn.Sequential(\n",
    "            self.linear2\n",
    "        )\n",
    "\n",
    "        # self.fc = nn.Sequential(\n",
    "        #     self.linear1,\n",
    "        #     nn.ReLU(),\n",
    "        #     self.linear2\n",
    "        # )\n",
    "\n",
    "        self.init_weights()\n",
    "\n",
    "    def init_weights(self):\n",
    "        initrange = 0.5\n",
    "        self.embedding.weight.data.uniform_(-initrange, initrange)\n",
    "        # how to reset bias?\n",
    "        # for lstm_weight in self.lstm.all_weights:\n",
    "        #     for lstm_weight_inner in lstm_weight:\n",
    "        #         pass\n",
    "        #         lstm_weight_inner.data.uniform_(-initrange, initrange)\n",
    "        self.linear1.weight.data.uniform_(-initrange, initrange)\n",
    "        self.linear2.weight.data.uniform_(-initrange, initrange)\n",
    "        self.linear1.bias.data.zero_()\n",
    "        self.linear2.bias.data.zero_()\n",
    "\n",
    "    def forward(self, text, offsets):\n",
    "        layer = self.embedding(text, offsets)\n",
    "        # use output of lstm\n",
    "        layer = self.lstm(layer)[0]\n",
    "        layer = self.fc1(layer)\n",
    "        layer = self.fc2(layer)\n",
    "        return layer"
   ],
   "metadata": {
    "collapsed": false,
    "pycharm": {
     "name": "#%%\n"
    }
   }
  },
  {
   "cell_type": "code",
   "execution_count": 12,
   "outputs": [],
   "source": [
    "num_class = 2\n",
    "vocab_size = len(vocab)\n",
    "emsize = 64\n",
    "model = HappyClassifierModel(vocab_size, emsize, num_class).to(device)"
   ],
   "metadata": {
    "collapsed": false,
    "pycharm": {
     "name": "#%%\n"
    }
   }
  },
  {
   "cell_type": "code",
   "execution_count": 13,
   "outputs": [],
   "source": [
    "from torchviz import make_dot"
   ],
   "metadata": {
    "collapsed": false,
    "pycharm": {
     "name": "#%%\n"
    }
   }
  },
  {
   "cell_type": "code",
   "execution_count": 14,
   "outputs": [],
   "source": [
    "train_dataloader = DataLoader(train_ds, batch_size=64, shuffle=False, collate_fn=collate_batch)"
   ],
   "metadata": {
    "collapsed": false,
    "pycharm": {
     "name": "#%%\n"
    }
   }
  },
  {
   "cell_type": "code",
   "execution_count": 15,
   "outputs": [
    {
     "data": {
      "text/plain": "(tensor([  14, 6945,    6,  ...,  119,    2,   94]),\n tensor([1, 1, 0, 0, 1, 0, 0, 1, 0, 0, 1, 1, 0, 0, 1, 0, 0, 0, 0, 1, 0, 0, 0, 0,\n         0, 0, 0, 1, 0, 1, 0, 0, 0, 0, 1, 1, 0, 0, 0, 0, 0, 1, 1, 1, 1, 0, 0, 0,\n         0, 1, 1, 0, 0, 1, 0, 0, 0, 0, 0, 0, 0, 0, 0, 0]),\n tensor([   0,   10,   14,   33,   54,   66,  108,  118,  130,  139,  166,  184,\n          205,  214,  226,  260,  305,  317,  326,  351,  380,  407,  430,  457,\n          484,  502,  566,  572,  580,  592,  597,  630,  660,  679,  702,  741,\n          753,  769,  794,  832,  845,  862,  867,  889,  912,  921,  933,  959,\n          981,  997, 1014, 1031, 1048, 1063, 1104, 1113, 1133, 1156, 1177, 1221,\n         1257, 1266, 1296, 1301]))"
     },
     "execution_count": 15,
     "metadata": {},
     "output_type": "execute_result"
    }
   ],
   "source": [
    "next(iter(train_dataloader))"
   ],
   "metadata": {
    "collapsed": false,
    "pycharm": {
     "name": "#%%\n"
    }
   }
  },
  {
   "cell_type": "markdown",
   "source": [
    "Verify our data can go through the model"
   ],
   "metadata": {
    "collapsed": false,
    "pycharm": {
     "name": "#%% md\n"
    }
   }
  },
  {
   "cell_type": "code",
   "execution_count": 16,
   "outputs": [
    {
     "name": "stdout",
     "output_type": "stream",
     "text": [
      "torch.Size([64])\n",
      "tensor(1)\n",
      "tensor([  14, 6945,    6,  ...,  119,    2,   94]) tensor([1, 1, 0, 0, 1, 0, 0, 1, 0, 0, 1, 1, 0, 0, 1, 0, 0, 0, 0, 1, 0, 0, 0, 0,\n",
      "        0, 0, 0, 1, 0, 1, 0, 0, 0, 0, 1, 1, 0, 0, 0, 0, 0, 1, 1, 1, 1, 0, 0, 0,\n",
      "        0, 1, 1, 0, 0, 1, 0, 0, 0, 0, 0, 0, 0, 0, 0, 0]) tensor([   0,   10,   14,   33,   54,   66,  108,  118,  130,  139,  166,  184,\n",
      "         205,  214,  226,  260,  305,  317,  326,  351,  380,  407,  430,  457,\n",
      "         484,  502,  566,  572,  580,  592,  597,  630,  660,  679,  702,  741,\n",
      "         753,  769,  794,  832,  845,  862,  867,  889,  912,  921,  933,  959,\n",
      "         981,  997, 1014, 1031, 1048, 1063, 1104, 1113, 1133, 1156, 1177, 1221,\n",
      "        1257, 1266, 1296, 1301])\n",
      "tensor([[-0.1192, -0.0847],\n",
      "        [-0.1255, -0.1186],\n",
      "        [-0.1589, -0.1152],\n",
      "        [-0.2148, -0.1054],\n",
      "        [-0.2717, -0.0854],\n",
      "        [-0.2478, -0.1087],\n",
      "        [-0.2415, -0.1080],\n",
      "        [-0.2715, -0.0386],\n",
      "        [-0.2401, -0.1053],\n",
      "        [-0.2283, -0.0774],\n",
      "        [-0.2467, -0.0645],\n",
      "        [-0.2896, -0.0381],\n",
      "        [-0.2712, -0.0787],\n",
      "        [-0.2601, -0.0897],\n",
      "        [-0.2371, -0.0706],\n",
      "        [-0.2534, -0.0674],\n",
      "        [-0.2296, -0.1011],\n",
      "        [-0.2209, -0.1202],\n",
      "        [-0.2604, -0.0647],\n",
      "        [-0.2444, -0.0781],\n",
      "        [-0.2191, -0.1245],\n",
      "        [-0.2342, -0.0899],\n",
      "        [-0.2246, -0.0837],\n",
      "        [-0.2598, -0.0463],\n",
      "        [-0.2553, -0.1078],\n",
      "        [-0.2584, -0.1120],\n",
      "        [-0.3211, -0.0522],\n",
      "        [-0.2006, -0.1545],\n",
      "        [-0.1979, -0.1397],\n",
      "        [-0.2322, -0.0572],\n",
      "        [-0.2312, -0.0569],\n",
      "        [-0.2413, -0.0695],\n",
      "        [-0.2584, -0.0996],\n",
      "        [-0.2511, -0.0985],\n",
      "        [-0.2601, -0.0914],\n",
      "        [-0.2767, -0.1098],\n",
      "        [-0.2307, -0.1504],\n",
      "        [-0.2381, -0.1123],\n",
      "        [-0.2114, -0.1065],\n",
      "        [-0.2592, -0.0878],\n",
      "        [-0.2919, -0.0549],\n",
      "        [-0.2530, -0.0863],\n",
      "        [-0.2371, -0.0587],\n",
      "        [-0.2191, -0.1190],\n",
      "        [-0.2378, -0.0867],\n",
      "        [-0.2256, -0.0649],\n",
      "        [-0.2311, -0.0572],\n",
      "        [-0.2247, -0.1004],\n",
      "        [-0.2736, -0.0495],\n",
      "        [-0.2698, -0.0753],\n",
      "        [-0.2437, -0.0742],\n",
      "        [-0.2415, -0.0919],\n",
      "        [-0.2585, -0.1286],\n",
      "        [-0.2667, -0.0957],\n",
      "        [-0.2596, -0.0946],\n",
      "        [-0.2663, -0.1185],\n",
      "        [-0.2550, -0.0898],\n",
      "        [-0.2135, -0.0759],\n",
      "        [-0.2170, -0.1106],\n",
      "        [-0.2243, -0.0851],\n",
      "        [-0.2258, -0.1278],\n",
      "        [-0.2314, -0.1046],\n",
      "        [-0.2267, -0.0903],\n",
      "        [-0.1974, -0.1529]], grad_fn=<AddmmBackward0>)\n"
     ]
    }
   ],
   "source": [
    "for i, (txt, label, offset) in enumerate(train_dataloader):\n",
    "    print(label.shape)\n",
    "    print(label[0])\n",
    "    print(txt, label, offset)\n",
    "    print(model(txt, offset))\n",
    "    break"
   ],
   "metadata": {
    "collapsed": false,
    "pycharm": {
     "name": "#%%\n"
    }
   }
  },
  {
   "cell_type": "code",
   "execution_count": 17,
   "outputs": [],
   "source": [
    "# lets try these hyperparameters, losses, and optimizers instead and see our results\n",
    "\n",
    "epochs = 200\n",
    "LR = 2\n",
    "BATCH_SIZE = 64\n",
    "\n",
    "criterion = torch.nn.CrossEntropyLoss()\n",
    "optimizer = torch.optim.SGD(model.parameters(), lr=LR)\n",
    "scheduler = torch.optim.lr_scheduler.StepLR(optimizer, step_size=1.0, gamma=0.0001)\n",
    "total_accu = None"
   ],
   "metadata": {
    "collapsed": false,
    "pycharm": {
     "name": "#%%\n"
    }
   }
  },
  {
   "cell_type": "code",
   "execution_count": 18,
   "outputs": [],
   "source": [
    "# redfine our datasets\n",
    "\n",
    "train_dataloader = DataLoader(dataset=train_ds, batch_size=BATCH_SIZE, shuffle=True, collate_fn=collate_batch)\n",
    "test_dataloader = DataLoader(dataset=test_ds, batch_size=BATCH_SIZE, shuffle=True, collate_fn=collate_batch)"
   ],
   "metadata": {
    "collapsed": false,
    "pycharm": {
     "name": "#%%\n"
    }
   }
  },
  {
   "cell_type": "code",
   "execution_count": 19,
   "outputs": [],
   "source": [
    "import time\n",
    "\n",
    "def train(dataloader):\n",
    "    model.train()\n",
    "    total_accuracy, total_count = 0, 0\n",
    "    log_interval = 500\n",
    "    start_time = time.time()\n",
    "\n",
    "    for i, (texts, labels, offsets) in enumerate(dataloader):\n",
    "        optimizer.zero_grad()\n",
    "        pred = model(texts, offsets)\n",
    "        labels = torch.as_tensor([a.type(torch.LongTensor) for a in labels], dtype=torch.int64)\n",
    "        loss = criterion(pred, labels)\n",
    "        loss.backward()\n",
    "        torch.nn.utils.clip_grad_norm_(model.parameters(), 0.1)\n",
    "        optimizer.step()\n",
    "\n",
    "        #our result is the largest number's index of the prediction\n",
    "        total_accuracy += (pred.argmax(1) == labels).sum().item()\n",
    "        total_count += labels.size(0)\n",
    "\n",
    "        if i == 0:\n",
    "            print(loss)\n",
    "        if i % log_interval == 0 and i > 0:\n",
    "            elapsed = time.time() - start_time\n",
    "            print('| epoch {:3d} | {:5d}/{:5d} batches '\n",
    "                  '| accuracy {:8.3f}'.format(epoch, i, len(dataloader),\n",
    "                                              total_acc/total_count))\n",
    "            total_acc, total_count = 0, 0\n",
    "            start_time = time.time()\n",
    "\n",
    "def evaluate(dataloader):\n",
    "    model.eval()\n",
    "    total_acc, total_count = 0, 0\n",
    "\n",
    "    with torch.no_grad():\n",
    "        for idx, (texts, labels, offsets) in enumerate(dataloader):\n",
    "            pred = model(texts, offsets)\n",
    "            labels = torch.as_tensor([a.type(torch.LongTensor) for a in labels], dtype=torch.int64)\n",
    "            loss = criterion(pred, labels)\n",
    "            total_acc += (pred.argmax(1) == labels).sum().item()\n",
    "            total_count += labels.size(0)\n",
    "            # print(pred)\n",
    "    return total_acc/total_count\n",
    "\n",
    "\n",
    "\n"
   ],
   "metadata": {
    "collapsed": false,
    "pycharm": {
     "name": "#%%\n"
    }
   }
  },
  {
   "cell_type": "code",
   "execution_count": 20,
   "outputs": [
    {
     "name": "stdout",
     "output_type": "stream",
     "text": [
      "tensor(0.7526, grad_fn=<NllLossBackward0>)\n",
      "-----------------------------------------------------------\n",
      "| end of epoch   1 | time:  1.99s | valid accuracy    0.716 \n",
      "-----------------------------------------------------------\n",
      "tensor(0.5988, grad_fn=<NllLossBackward0>)\n",
      "-----------------------------------------------------------\n",
      "| end of epoch   2 | time:  1.68s | valid accuracy    0.716 \n",
      "-----------------------------------------------------------\n",
      "tensor(0.7319, grad_fn=<NllLossBackward0>)\n",
      "-----------------------------------------------------------\n",
      "| end of epoch   3 | time:  1.78s | valid accuracy    0.716 \n",
      "-----------------------------------------------------------\n",
      "tensor(0.5915, grad_fn=<NllLossBackward0>)\n",
      "-----------------------------------------------------------\n",
      "| end of epoch   4 | time:  1.82s | valid accuracy    0.716 \n",
      "-----------------------------------------------------------\n",
      "tensor(0.6361, grad_fn=<NllLossBackward0>)\n",
      "-----------------------------------------------------------\n",
      "| end of epoch   5 | time:  1.89s | valid accuracy    0.725 \n",
      "-----------------------------------------------------------\n",
      "tensor(0.7083, grad_fn=<NllLossBackward0>)\n",
      "-----------------------------------------------------------\n",
      "| end of epoch   6 | time:  1.94s | valid accuracy    0.753 \n",
      "-----------------------------------------------------------\n",
      "tensor(0.3651, grad_fn=<NllLossBackward0>)\n",
      "-----------------------------------------------------------\n",
      "| end of epoch   7 | time:  1.76s | valid accuracy    0.795 \n",
      "-----------------------------------------------------------\n",
      "tensor(0.3731, grad_fn=<NllLossBackward0>)\n",
      "-----------------------------------------------------------\n",
      "| end of epoch   8 | time:  1.74s | valid accuracy    0.816 \n",
      "-----------------------------------------------------------\n",
      "tensor(0.3298, grad_fn=<NllLossBackward0>)\n",
      "-----------------------------------------------------------\n",
      "| end of epoch   9 | time:  1.74s | valid accuracy    0.875 \n",
      "-----------------------------------------------------------\n",
      "tensor(0.1920, grad_fn=<NllLossBackward0>)\n",
      "-----------------------------------------------------------\n",
      "| end of epoch  10 | time:  1.99s | valid accuracy    0.869 \n",
      "-----------------------------------------------------------\n",
      "tensor(0.4482, grad_fn=<NllLossBackward0>)\n",
      "-----------------------------------------------------------\n",
      "| end of epoch  11 | time:  2.01s | valid accuracy    0.865 \n",
      "-----------------------------------------------------------\n",
      "tensor(0.2014, grad_fn=<NllLossBackward0>)\n",
      "-----------------------------------------------------------\n",
      "| end of epoch  12 | time:  1.95s | valid accuracy    0.866 \n",
      "-----------------------------------------------------------\n",
      "tensor(0.2774, grad_fn=<NllLossBackward0>)\n",
      "-----------------------------------------------------------\n",
      "| end of epoch  13 | time:  1.82s | valid accuracy    0.871 \n",
      "-----------------------------------------------------------\n",
      "tensor(0.1761, grad_fn=<NllLossBackward0>)\n",
      "-----------------------------------------------------------\n",
      "| end of epoch  14 | time:  1.82s | valid accuracy    0.863 \n",
      "-----------------------------------------------------------\n",
      "tensor(0.3002, grad_fn=<NllLossBackward0>)\n",
      "-----------------------------------------------------------\n",
      "| end of epoch  15 | time:  2.02s | valid accuracy    0.866 \n",
      "-----------------------------------------------------------\n",
      "tensor(0.2531, grad_fn=<NllLossBackward0>)\n",
      "-----------------------------------------------------------\n",
      "| end of epoch  16 | time:  1.98s | valid accuracy    0.868 \n",
      "-----------------------------------------------------------\n",
      "tensor(0.1640, grad_fn=<NllLossBackward0>)\n",
      "-----------------------------------------------------------\n",
      "| end of epoch  17 | time:  2.01s | valid accuracy    0.862 \n",
      "-----------------------------------------------------------\n",
      "tensor(0.3111, grad_fn=<NllLossBackward0>)\n",
      "-----------------------------------------------------------\n",
      "| end of epoch  18 | time:  1.93s | valid accuracy    0.869 \n",
      "-----------------------------------------------------------\n",
      "tensor(0.2468, grad_fn=<NllLossBackward0>)\n",
      "-----------------------------------------------------------\n",
      "| end of epoch  19 | time:  2.16s | valid accuracy    0.869 \n",
      "-----------------------------------------------------------\n",
      "tensor(0.0943, grad_fn=<NllLossBackward0>)\n",
      "-----------------------------------------------------------\n",
      "| end of epoch  20 | time:  2.10s | valid accuracy    0.866 \n",
      "-----------------------------------------------------------\n",
      "tensor(0.2180, grad_fn=<NllLossBackward0>)\n",
      "-----------------------------------------------------------\n",
      "| end of epoch  21 | time:  2.04s | valid accuracy    0.869 \n",
      "-----------------------------------------------------------\n",
      "tensor(0.1805, grad_fn=<NllLossBackward0>)\n",
      "-----------------------------------------------------------\n",
      "| end of epoch  22 | time:  2.06s | valid accuracy    0.863 \n",
      "-----------------------------------------------------------\n",
      "tensor(0.2236, grad_fn=<NllLossBackward0>)\n",
      "-----------------------------------------------------------\n",
      "| end of epoch  23 | time:  2.22s | valid accuracy    0.863 \n",
      "-----------------------------------------------------------\n",
      "tensor(0.1558, grad_fn=<NllLossBackward0>)\n",
      "-----------------------------------------------------------\n",
      "| end of epoch  24 | time:  2.22s | valid accuracy    0.871 \n",
      "-----------------------------------------------------------\n",
      "tensor(0.2298, grad_fn=<NllLossBackward0>)\n",
      "-----------------------------------------------------------\n",
      "| end of epoch  25 | time:  2.14s | valid accuracy    0.869 \n",
      "-----------------------------------------------------------\n",
      "tensor(0.1825, grad_fn=<NllLossBackward0>)\n",
      "-----------------------------------------------------------\n",
      "| end of epoch  26 | time:  2.01s | valid accuracy    0.864 \n",
      "-----------------------------------------------------------\n",
      "tensor(0.2914, grad_fn=<NllLossBackward0>)\n",
      "-----------------------------------------------------------\n",
      "| end of epoch  27 | time:  2.16s | valid accuracy    0.863 \n",
      "-----------------------------------------------------------\n",
      "tensor(0.2435, grad_fn=<NllLossBackward0>)\n",
      "-----------------------------------------------------------\n",
      "| end of epoch  28 | time:  2.07s | valid accuracy    0.868 \n",
      "-----------------------------------------------------------\n",
      "tensor(0.2299, grad_fn=<NllLossBackward0>)\n",
      "-----------------------------------------------------------\n",
      "| end of epoch  29 | time:  2.18s | valid accuracy    0.866 \n",
      "-----------------------------------------------------------\n",
      "tensor(0.2004, grad_fn=<NllLossBackward0>)\n",
      "-----------------------------------------------------------\n",
      "| end of epoch  30 | time:  2.14s | valid accuracy    0.868 \n",
      "-----------------------------------------------------------\n",
      "tensor(0.2072, grad_fn=<NllLossBackward0>)\n",
      "-----------------------------------------------------------\n",
      "| end of epoch  31 | time:  2.07s | valid accuracy    0.864 \n",
      "-----------------------------------------------------------\n",
      "tensor(0.2630, grad_fn=<NllLossBackward0>)\n",
      "-----------------------------------------------------------\n",
      "| end of epoch  32 | time:  2.02s | valid accuracy    0.863 \n",
      "-----------------------------------------------------------\n",
      "tensor(0.3017, grad_fn=<NllLossBackward0>)\n",
      "-----------------------------------------------------------\n",
      "| end of epoch  33 | time:  2.16s | valid accuracy    0.865 \n",
      "-----------------------------------------------------------\n",
      "tensor(0.1522, grad_fn=<NllLossBackward0>)\n",
      "-----------------------------------------------------------\n",
      "| end of epoch  34 | time:  1.91s | valid accuracy    0.866 \n",
      "-----------------------------------------------------------\n",
      "tensor(0.4072, grad_fn=<NllLossBackward0>)\n",
      "-----------------------------------------------------------\n",
      "| end of epoch  35 | time:  1.94s | valid accuracy    0.864 \n",
      "-----------------------------------------------------------\n",
      "tensor(0.1802, grad_fn=<NllLossBackward0>)\n",
      "-----------------------------------------------------------\n",
      "| end of epoch  36 | time:  2.00s | valid accuracy    0.874 \n",
      "-----------------------------------------------------------\n",
      "tensor(0.3620, grad_fn=<NllLossBackward0>)\n",
      "-----------------------------------------------------------\n",
      "| end of epoch  37 | time:  2.58s | valid accuracy    0.864 \n",
      "-----------------------------------------------------------\n",
      "tensor(0.2602, grad_fn=<NllLossBackward0>)\n",
      "-----------------------------------------------------------\n",
      "| end of epoch  38 | time:  1.96s | valid accuracy    0.868 \n",
      "-----------------------------------------------------------\n",
      "tensor(0.1724, grad_fn=<NllLossBackward0>)\n",
      "-----------------------------------------------------------\n",
      "| end of epoch  39 | time:  2.30s | valid accuracy    0.867 \n",
      "-----------------------------------------------------------\n",
      "tensor(0.1785, grad_fn=<NllLossBackward0>)\n",
      "-----------------------------------------------------------\n",
      "| end of epoch  40 | time:  2.00s | valid accuracy    0.866 \n",
      "-----------------------------------------------------------\n",
      "tensor(0.2792, grad_fn=<NllLossBackward0>)\n",
      "-----------------------------------------------------------\n",
      "| end of epoch  41 | time:  1.96s | valid accuracy    0.867 \n",
      "-----------------------------------------------------------\n",
      "tensor(0.3771, grad_fn=<NllLossBackward0>)\n"
     ]
    },
    {
     "ename": "KeyboardInterrupt",
     "evalue": "",
     "output_type": "error",
     "traceback": [
      "\u001B[1;31m---------------------------------------------------------------------------\u001B[0m",
      "\u001B[1;31mKeyboardInterrupt\u001B[0m                         Traceback (most recent call last)",
      "Input \u001B[1;32mIn [20]\u001B[0m, in \u001B[0;36m<cell line: 1>\u001B[1;34m()\u001B[0m\n\u001B[0;32m      1\u001B[0m \u001B[38;5;28;01mfor\u001B[39;00m epoch \u001B[38;5;129;01min\u001B[39;00m \u001B[38;5;28mrange\u001B[39m(\u001B[38;5;241m1\u001B[39m, epochs \u001B[38;5;241m+\u001B[39m \u001B[38;5;241m1\u001B[39m):\n\u001B[0;32m      2\u001B[0m     epoch_start_time \u001B[38;5;241m=\u001B[39m time\u001B[38;5;241m.\u001B[39mtime()\n\u001B[1;32m----> 3\u001B[0m     \u001B[43mtrain\u001B[49m\u001B[43m(\u001B[49m\u001B[43mtrain_dataloader\u001B[49m\u001B[43m)\u001B[49m\n\u001B[0;32m      4\u001B[0m     accu_val \u001B[38;5;241m=\u001B[39m evaluate(test_dataloader)\n\u001B[0;32m      6\u001B[0m     \u001B[38;5;28;01mif\u001B[39;00m total_accu \u001B[38;5;129;01mis\u001B[39;00m \u001B[38;5;129;01mnot\u001B[39;00m \u001B[38;5;28;01mNone\u001B[39;00m \u001B[38;5;129;01mand\u001B[39;00m total_accu \u001B[38;5;241m>\u001B[39m accu_val:\n",
      "Input \u001B[1;32mIn [19]\u001B[0m, in \u001B[0;36mtrain\u001B[1;34m(dataloader)\u001B[0m\n\u001B[0;32m     14\u001B[0m loss\u001B[38;5;241m.\u001B[39mbackward()\n\u001B[0;32m     15\u001B[0m torch\u001B[38;5;241m.\u001B[39mnn\u001B[38;5;241m.\u001B[39mutils\u001B[38;5;241m.\u001B[39mclip_grad_norm_(model\u001B[38;5;241m.\u001B[39mparameters(), \u001B[38;5;241m0.1\u001B[39m)\n\u001B[1;32m---> 16\u001B[0m \u001B[43moptimizer\u001B[49m\u001B[38;5;241;43m.\u001B[39;49m\u001B[43mstep\u001B[49m\u001B[43m(\u001B[49m\u001B[43m)\u001B[49m\n\u001B[0;32m     18\u001B[0m \u001B[38;5;66;03m#our result is the largest number's index of the prediction\u001B[39;00m\n\u001B[0;32m     19\u001B[0m total_accuracy \u001B[38;5;241m+\u001B[39m\u001B[38;5;241m=\u001B[39m (pred\u001B[38;5;241m.\u001B[39margmax(\u001B[38;5;241m1\u001B[39m) \u001B[38;5;241m==\u001B[39m labels)\u001B[38;5;241m.\u001B[39msum()\u001B[38;5;241m.\u001B[39mitem()\n",
      "File \u001B[1;32m~\\Documents\\repos\\HappyClassifier\\HappyClassifierModels\\venv\\lib\\site-packages\\torch\\optim\\lr_scheduler.py:65\u001B[0m, in \u001B[0;36m_LRScheduler.__init__.<locals>.with_counter.<locals>.wrapper\u001B[1;34m(*args, **kwargs)\u001B[0m\n\u001B[0;32m     63\u001B[0m instance\u001B[38;5;241m.\u001B[39m_step_count \u001B[38;5;241m+\u001B[39m\u001B[38;5;241m=\u001B[39m \u001B[38;5;241m1\u001B[39m\n\u001B[0;32m     64\u001B[0m wrapped \u001B[38;5;241m=\u001B[39m func\u001B[38;5;241m.\u001B[39m\u001B[38;5;21m__get__\u001B[39m(instance, \u001B[38;5;28mcls\u001B[39m)\n\u001B[1;32m---> 65\u001B[0m \u001B[38;5;28;01mreturn\u001B[39;00m wrapped(\u001B[38;5;241m*\u001B[39margs, \u001B[38;5;241m*\u001B[39m\u001B[38;5;241m*\u001B[39mkwargs)\n",
      "File \u001B[1;32m~\\Documents\\repos\\HappyClassifier\\HappyClassifierModels\\venv\\lib\\site-packages\\torch\\optim\\optimizer.py:88\u001B[0m, in \u001B[0;36mOptimizer._hook_for_profile.<locals>.profile_hook_step.<locals>.wrapper\u001B[1;34m(*args, **kwargs)\u001B[0m\n\u001B[0;32m     86\u001B[0m profile_name \u001B[38;5;241m=\u001B[39m \u001B[38;5;124m\"\u001B[39m\u001B[38;5;124mOptimizer.step#\u001B[39m\u001B[38;5;132;01m{}\u001B[39;00m\u001B[38;5;124m.step\u001B[39m\u001B[38;5;124m\"\u001B[39m\u001B[38;5;241m.\u001B[39mformat(obj\u001B[38;5;241m.\u001B[39m\u001B[38;5;18m__class__\u001B[39m\u001B[38;5;241m.\u001B[39m\u001B[38;5;18m__name__\u001B[39m)\n\u001B[0;32m     87\u001B[0m \u001B[38;5;28;01mwith\u001B[39;00m torch\u001B[38;5;241m.\u001B[39mautograd\u001B[38;5;241m.\u001B[39mprofiler\u001B[38;5;241m.\u001B[39mrecord_function(profile_name):\n\u001B[1;32m---> 88\u001B[0m     \u001B[38;5;28;01mreturn\u001B[39;00m func(\u001B[38;5;241m*\u001B[39margs, \u001B[38;5;241m*\u001B[39m\u001B[38;5;241m*\u001B[39mkwargs)\n",
      "File \u001B[1;32m~\\Documents\\repos\\HappyClassifier\\HappyClassifierModels\\venv\\lib\\site-packages\\torch\\autograd\\grad_mode.py:27\u001B[0m, in \u001B[0;36m_DecoratorContextManager.__call__.<locals>.decorate_context\u001B[1;34m(*args, **kwargs)\u001B[0m\n\u001B[0;32m     24\u001B[0m \u001B[38;5;129m@functools\u001B[39m\u001B[38;5;241m.\u001B[39mwraps(func)\n\u001B[0;32m     25\u001B[0m \u001B[38;5;28;01mdef\u001B[39;00m \u001B[38;5;21mdecorate_context\u001B[39m(\u001B[38;5;241m*\u001B[39margs, \u001B[38;5;241m*\u001B[39m\u001B[38;5;241m*\u001B[39mkwargs):\n\u001B[0;32m     26\u001B[0m     \u001B[38;5;28;01mwith\u001B[39;00m \u001B[38;5;28mself\u001B[39m\u001B[38;5;241m.\u001B[39mclone():\n\u001B[1;32m---> 27\u001B[0m         \u001B[38;5;28;01mreturn\u001B[39;00m func(\u001B[38;5;241m*\u001B[39margs, \u001B[38;5;241m*\u001B[39m\u001B[38;5;241m*\u001B[39mkwargs)\n",
      "File \u001B[1;32m~\\Documents\\repos\\HappyClassifier\\HappyClassifierModels\\venv\\lib\\site-packages\\torch\\optim\\sgd.py:144\u001B[0m, in \u001B[0;36mSGD.step\u001B[1;34m(self, closure)\u001B[0m\n\u001B[0;32m    141\u001B[0m         \u001B[38;5;28;01melse\u001B[39;00m:\n\u001B[0;32m    142\u001B[0m             momentum_buffer_list\u001B[38;5;241m.\u001B[39mappend(state[\u001B[38;5;124m'\u001B[39m\u001B[38;5;124mmomentum_buffer\u001B[39m\u001B[38;5;124m'\u001B[39m])\n\u001B[1;32m--> 144\u001B[0m \u001B[43mF\u001B[49m\u001B[38;5;241;43m.\u001B[39;49m\u001B[43msgd\u001B[49m\u001B[43m(\u001B[49m\u001B[43mparams_with_grad\u001B[49m\u001B[43m,\u001B[49m\n\u001B[0;32m    145\u001B[0m \u001B[43m      \u001B[49m\u001B[43md_p_list\u001B[49m\u001B[43m,\u001B[49m\n\u001B[0;32m    146\u001B[0m \u001B[43m      \u001B[49m\u001B[43mmomentum_buffer_list\u001B[49m\u001B[43m,\u001B[49m\n\u001B[0;32m    147\u001B[0m \u001B[43m      \u001B[49m\u001B[43mweight_decay\u001B[49m\u001B[38;5;241;43m=\u001B[39;49m\u001B[43mweight_decay\u001B[49m\u001B[43m,\u001B[49m\n\u001B[0;32m    148\u001B[0m \u001B[43m      \u001B[49m\u001B[43mmomentum\u001B[49m\u001B[38;5;241;43m=\u001B[39;49m\u001B[43mmomentum\u001B[49m\u001B[43m,\u001B[49m\n\u001B[0;32m    149\u001B[0m \u001B[43m      \u001B[49m\u001B[43mlr\u001B[49m\u001B[38;5;241;43m=\u001B[39;49m\u001B[43mlr\u001B[49m\u001B[43m,\u001B[49m\n\u001B[0;32m    150\u001B[0m \u001B[43m      \u001B[49m\u001B[43mdampening\u001B[49m\u001B[38;5;241;43m=\u001B[39;49m\u001B[43mdampening\u001B[49m\u001B[43m,\u001B[49m\n\u001B[0;32m    151\u001B[0m \u001B[43m      \u001B[49m\u001B[43mnesterov\u001B[49m\u001B[38;5;241;43m=\u001B[39;49m\u001B[43mnesterov\u001B[49m\u001B[43m,\u001B[49m\n\u001B[0;32m    152\u001B[0m \u001B[43m      \u001B[49m\u001B[43mmaximize\u001B[49m\u001B[38;5;241;43m=\u001B[39;49m\u001B[43mmaximize\u001B[49m\u001B[43m,\u001B[49m\u001B[43m)\u001B[49m\n\u001B[0;32m    154\u001B[0m \u001B[38;5;66;03m# update momentum_buffers in state\u001B[39;00m\n\u001B[0;32m    155\u001B[0m \u001B[38;5;28;01mfor\u001B[39;00m p, momentum_buffer \u001B[38;5;129;01min\u001B[39;00m \u001B[38;5;28mzip\u001B[39m(params_with_grad, momentum_buffer_list):\n",
      "File \u001B[1;32m~\\Documents\\repos\\HappyClassifier\\HappyClassifierModels\\venv\\lib\\site-packages\\torch\\optim\\_functional.py:194\u001B[0m, in \u001B[0;36msgd\u001B[1;34m(params, d_p_list, momentum_buffer_list, weight_decay, momentum, lr, dampening, nesterov, maximize)\u001B[0m\n\u001B[0;32m    191\u001B[0m         d_p \u001B[38;5;241m=\u001B[39m buf\n\u001B[0;32m    193\u001B[0m alpha \u001B[38;5;241m=\u001B[39m lr \u001B[38;5;28;01mif\u001B[39;00m maximize \u001B[38;5;28;01melse\u001B[39;00m \u001B[38;5;241m-\u001B[39mlr\n\u001B[1;32m--> 194\u001B[0m \u001B[43mparam\u001B[49m\u001B[38;5;241;43m.\u001B[39;49m\u001B[43madd_\u001B[49m\u001B[43m(\u001B[49m\u001B[43md_p\u001B[49m\u001B[43m,\u001B[49m\u001B[43m \u001B[49m\u001B[43malpha\u001B[49m\u001B[38;5;241;43m=\u001B[39;49m\u001B[43malpha\u001B[49m\u001B[43m)\u001B[49m\n",
      "\u001B[1;31mKeyboardInterrupt\u001B[0m: "
     ]
    }
   ],
   "source": [
    "for epoch in range(1, epochs + 1):\n",
    "    epoch_start_time = time.time()\n",
    "    train(train_dataloader)\n",
    "    accu_val = evaluate(test_dataloader)\n",
    "\n",
    "    if total_accu is not None and total_accu > accu_val:\n",
    "        scheduler.step()\n",
    "    else:\n",
    "        total_accu = accu_val\n",
    "    print('-' * 59)\n",
    "    print('| end of epoch {:3d} | time: {:5.2f}s | '\n",
    "          'valid accuracy {:8.3f} '.format(epoch,\n",
    "                                           time.time() - epoch_start_time,\n",
    "                                           accu_val))\n",
    "    print('-' * 59)"
   ],
   "metadata": {
    "collapsed": false,
    "pycharm": {
     "name": "#%%\n"
    }
   }
  },
  {
   "cell_type": "code",
   "execution_count": null,
   "outputs": [],
   "source": [
    "epochs = 200"
   ],
   "metadata": {
    "collapsed": false,
    "pycharm": {
     "name": "#%%\n"
    }
   }
  },
  {
   "cell_type": "code",
   "execution_count": null,
   "outputs": [],
   "source": [],
   "metadata": {
    "collapsed": false,
    "pycharm": {
     "name": "#%%\n"
    }
   }
  },
  {
   "cell_type": "code",
   "execution_count": null,
   "outputs": [],
   "source": [],
   "metadata": {
    "collapsed": false,
    "pycharm": {
     "name": "#%%\n"
    }
   }
  },
  {
   "cell_type": "code",
   "execution_count": null,
   "outputs": [],
   "source": [
    "a = torch.tensor(0.6, dtype=torch.float32)"
   ],
   "metadata": {
    "collapsed": false,
    "pycharm": {
     "name": "#%%\n"
    }
   }
  },
  {
   "cell_type": "code",
   "execution_count": null,
   "outputs": [],
   "source": [
    "a.argmax(0)"
   ],
   "metadata": {
    "collapsed": false,
    "pycharm": {
     "name": "#%%\n"
    }
   }
  },
  {
   "cell_type": "code",
   "execution_count": null,
   "outputs": [],
   "source": [
    "predicted_label = torch.tensor([0.2, 0.3, 0.3, 0.3])\n",
    "label = 1.\n",
    "a = (predicted_label.argmax(1) == label)\n",
    "b = a.sum()\n",
    "c = b.item()\n",
    "print(a,b,c)"
   ],
   "metadata": {
    "collapsed": false,
    "pycharm": {
     "name": "#%%\n"
    }
   }
  },
  {
   "cell_type": "code",
   "execution_count": null,
   "outputs": [],
   "source": [],
   "metadata": {
    "collapsed": false,
    "pycharm": {
     "name": "#%%\n"
    }
   }
  },
  {
   "cell_type": "code",
   "execution_count": null,
   "outputs": [],
   "source": [
    "a = [1,2,3,4]\n",
    "b = [5,6,7,8]"
   ],
   "metadata": {
    "collapsed": false,
    "pycharm": {
     "name": "#%%\n"
    }
   }
  },
  {
   "cell_type": "code",
   "execution_count": null,
   "outputs": [],
   "source": [
    "torch.cat([torch.as_tensor(a),torch.as_tensor(b)])"
   ],
   "metadata": {
    "collapsed": false,
    "pycharm": {
     "name": "#%%\n"
    }
   }
  },
  {
   "cell_type": "code",
   "execution_count": null,
   "outputs": [],
   "source": [],
   "metadata": {
    "collapsed": false,
    "pycharm": {
     "name": "#%%\n"
    }
   }
  }
 ],
 "metadata": {
  "kernelspec": {
   "display_name": "Python 3",
   "language": "python",
   "name": "python3"
  },
  "language_info": {
   "codemirror_mode": {
    "name": "ipython",
    "version": 2
   },
   "file_extension": ".py",
   "mimetype": "text/x-python",
   "name": "python",
   "nbconvert_exporter": "python",
   "pygments_lexer": "ipython2",
   "version": "2.7.6"
  }
 },
 "nbformat": 4,
 "nbformat_minor": 0
}
{
 "cells": [
  {
   "cell_type": "code",
   "execution_count": 1,
   "outputs": [],
   "source": [
    "import torch\n",
    "import Models.pytorch_joy_and_anger.joy_and_anger_utils as model_utils"
   ],
   "metadata": {
    "collapsed": false,
    "pycharm": {
     "name": "#%%\n"
    }
   }
  },
  {
   "cell_type": "code",
   "execution_count": 2,
   "outputs": [
    {
     "name": "stdout",
     "output_type": "stream",
     "text": [
      "loaded 7520 items\n",
      "{'joy': 0.0, 'anger': 1.0}\n",
      "('im grabbing a minute to post i feel greedy wrong', 1)\n",
      "loaded 970 items\n",
      "{'joy': 0.0, 'anger': 1.0}\n",
      "('i left with my bouquet of red and yellow tulips under my arm feeling slightly more optimistic than when i arrived', 0)\n"
     ]
    }
   ],
   "source": [
    "train_ds = model_utils.HappyClassifierDataset(\"train.txt\", probabilistic=True)\n",
    "test_ds = model_utils.HappyClassifierDataset(\"test.txt\", probabilistic=True)"
   ],
   "metadata": {
    "collapsed": false,
    "pycharm": {
     "name": "#%%\n"
    }
   }
  },
  {
   "cell_type": "code",
   "execution_count": 3,
   "outputs": [],
   "source": [
    "from torchtext.data.utils import get_tokenizer\n",
    "from torchtext.vocab import build_vocab_from_iterator"
   ],
   "metadata": {
    "collapsed": false,
    "pycharm": {
     "name": "#%%\n"
    }
   }
  },
  {
   "cell_type": "code",
   "execution_count": 4,
   "outputs": [],
   "source": [
    "tokenizer = get_tokenizer('basic_english')"
   ],
   "metadata": {
    "collapsed": false,
    "pycharm": {
     "name": "#%%\n"
    }
   }
  },
  {
   "cell_type": "code",
   "execution_count": 5,
   "outputs": [],
   "source": [
    "vocab = build_vocab_from_iterator(list(map(lambda k: tokenizer(k), [txt for txt, label in train_ds.train_data])), specials=[\"<unk>\"])"
   ],
   "metadata": {
    "collapsed": false,
    "pycharm": {
     "name": "#%%\n"
    }
   }
  },
  {
   "cell_type": "code",
   "execution_count": 6,
   "outputs": [],
   "source": [
    "vocab.set_default_index(vocab[\"<unk>\"])"
   ],
   "metadata": {
    "collapsed": false,
    "pycharm": {
     "name": "#%%\n"
    }
   }
  },
  {
   "cell_type": "code",
   "execution_count": 7,
   "outputs": [
    {
     "data": {
      "text/plain": "[353, 96, 0, 171]"
     },
     "execution_count": 7,
     "metadata": {},
     "output_type": "execute_result"
    }
   ],
   "source": [
    "vocab(['great', 'day', \"we're\", 'having'])"
   ],
   "metadata": {
    "collapsed": false,
    "pycharm": {
     "name": "#%%\n"
    }
   }
  },
  {
   "cell_type": "code",
   "execution_count": 8,
   "outputs": [],
   "source": [
    "# idx 2 has issues"
   ],
   "metadata": {
    "collapsed": false,
    "pycharm": {
     "name": "#%%\n"
    }
   }
  },
  {
   "cell_type": "code",
   "execution_count": 9,
   "outputs": [],
   "source": [
    "text_pipeline = lambda x: vocab(tokenizer(x))\n",
    "label_pipeline = lambda x: x"
   ],
   "metadata": {
    "collapsed": false,
    "pycharm": {
     "name": "#%%\n"
    }
   }
  },
  {
   "cell_type": "code",
   "execution_count": 10,
   "outputs": [],
   "source": [
    "from torch.utils.data import DataLoader\n",
    "device = torch.device(\"cpu\")\n",
    "\n",
    "def collate_batch(batch):\n",
    "    text_list, label_list, offsets = [], [], [0]\n",
    "    for text, label in batch:\n",
    "        processed_text = torch.tensor(text_pipeline(text), dtype=torch.int64)\n",
    "        text_list.append(processed_text)\n",
    "        label_list.append(label_pipeline(label))\n",
    "        offsets.append(processed_text.size(0))\n",
    "    text_list = torch.cat(text_list)\n",
    "    label_list = torch.tensor(label_list, dtype=torch.int64)\n",
    "    offsets = torch.tensor(offsets[:-1]).cumsum(dim=0)\n",
    "    return text_list.to(device), label_list.to(device), offsets.to(device)"
   ],
   "metadata": {
    "collapsed": false,
    "pycharm": {
     "name": "#%%\n"
    }
   }
  },
  {
   "cell_type": "markdown",
   "source": [
    "PyTorch seems to have a LSTM layer (mostly) similar to tf2 so we don't have to create it from scratch here."
   ],
   "metadata": {
    "collapsed": false,
    "pycharm": {
     "name": "#%% md\n"
    }
   }
  },
  {
   "cell_type": "code",
   "execution_count": 11,
   "outputs": [],
   "source": [
    "from torch import nn\n",
    "\n",
    "#TODO: Build a Backward RNN forward pass\n",
    "class HappyClassifierModel(nn.Module):\n",
    "    def __init__(self, vocab_size, embed_dim, num_classes):\n",
    "        super(HappyClassifierModel, self).__init__()\n",
    "        self.embedding = nn.EmbeddingBag(vocab_size, embed_dim, sparse=True)\n",
    "        self.lstm = nn.LSTM(input_size=embed_dim, hidden_size=64)\n",
    "        self.linear1 = nn.Linear(64, 32)\n",
    "\n",
    "        self.fc1 = nn.Sequential(\n",
    "            self.linear1,\n",
    "            nn.ReLU()\n",
    "        )\n",
    "        self.linear2 = nn.Linear(32, 2)\n",
    "        self.fc2 = nn.Sequential(\n",
    "            self.linear2\n",
    "        )\n",
    "\n",
    "        # self.fc = nn.Sequential(\n",
    "        #     self.linear1,\n",
    "        #     nn.ReLU(),\n",
    "        #     self.linear2\n",
    "        # )\n",
    "\n",
    "        self.init_weights()\n",
    "\n",
    "    def init_weights(self):\n",
    "        initrange = 0.35\n",
    "        self.embedding.weight.data.uniform_(-initrange, initrange)\n",
    "        # how to reset bias?\n",
    "        for lstm_weight in self.lstm.all_weights:\n",
    "            for lstm_weight_inner in lstm_weight:\n",
    "                lstm_weight_inner.data.uniform_(-initrange, initrange)\n",
    "        self.linear1.weight.data.uniform_(-initrange, initrange)\n",
    "        self.linear2.weight.data.uniform_(-initrange, initrange)\n",
    "        self.linear1.bias.data.zero_()\n",
    "        self.linear2.bias.data.zero_()\n",
    "\n",
    "    def forward(self, text, offsets):\n",
    "        layer = self.embedding(text, offsets)\n",
    "        # use output of lstm\n",
    "        layer = self.lstm(layer)[0]\n",
    "        layer = self.fc1(layer)\n",
    "        layer = self.fc2(layer)\n",
    "        return layer"
   ],
   "metadata": {
    "collapsed": false,
    "pycharm": {
     "name": "#%%\n"
    }
   }
  },
  {
   "cell_type": "code",
   "execution_count": 12,
   "outputs": [],
   "source": [
    "num_class = 2\n",
    "vocab_size = len(vocab)\n",
    "emsize = 64\n",
    "model = HappyClassifierModel(vocab_size, emsize, num_class).to(device)"
   ],
   "metadata": {
    "collapsed": false,
    "pycharm": {
     "name": "#%%\n"
    }
   }
  },
  {
   "cell_type": "code",
   "execution_count": 13,
   "outputs": [],
   "source": [
    "from torchviz import make_dot"
   ],
   "metadata": {
    "collapsed": false,
    "pycharm": {
     "name": "#%%\n"
    }
   }
  },
  {
   "cell_type": "code",
   "execution_count": 14,
   "outputs": [],
   "source": [
    "train_dataloader = DataLoader(train_ds, batch_size=64, shuffle=False, collate_fn=collate_batch)"
   ],
   "metadata": {
    "collapsed": false,
    "pycharm": {
     "name": "#%%\n"
    }
   }
  },
  {
   "cell_type": "code",
   "execution_count": 15,
   "outputs": [
    {
     "data": {
      "text/plain": "(tensor([  14, 6945,    6,  ...,  119,    2,   94]),\n tensor([1, 1, 0, 0, 1, 0, 0, 1, 0, 0, 1, 1, 0, 0, 1, 0, 0, 0, 0, 1, 0, 0, 0, 0,\n         0, 0, 0, 1, 0, 1, 0, 0, 0, 0, 1, 1, 0, 0, 0, 0, 0, 1, 1, 1, 1, 0, 0, 0,\n         0, 1, 1, 0, 0, 1, 0, 0, 0, 0, 0, 0, 0, 0, 0, 0]),\n tensor([   0,   10,   14,   33,   54,   66,  108,  118,  130,  139,  166,  184,\n          205,  214,  226,  260,  305,  317,  326,  351,  380,  407,  430,  457,\n          484,  502,  566,  572,  580,  592,  597,  630,  660,  679,  702,  741,\n          753,  769,  794,  832,  845,  862,  867,  889,  912,  921,  933,  959,\n          981,  997, 1014, 1031, 1048, 1063, 1104, 1113, 1133, 1156, 1177, 1221,\n         1257, 1266, 1296, 1301]))"
     },
     "execution_count": 15,
     "metadata": {},
     "output_type": "execute_result"
    }
   ],
   "source": [
    "next(iter(train_dataloader))"
   ],
   "metadata": {
    "collapsed": false,
    "pycharm": {
     "name": "#%%\n"
    }
   }
  },
  {
   "cell_type": "markdown",
   "source": [
    "Verify our data can go through the model"
   ],
   "metadata": {
    "collapsed": false,
    "pycharm": {
     "name": "#%% md\n"
    }
   }
  },
  {
   "cell_type": "code",
   "execution_count": 16,
   "outputs": [
    {
     "name": "stdout",
     "output_type": "stream",
     "text": [
      "torch.Size([64])\n",
      "tensor(1)\n",
      "tensor([  14, 6945,    6,  ...,  119,    2,   94]) tensor([1, 1, 0, 0, 1, 0, 0, 1, 0, 0, 1, 1, 0, 0, 1, 0, 0, 0, 0, 1, 0, 0, 0, 0,\n",
      "        0, 0, 0, 1, 0, 1, 0, 0, 0, 0, 1, 1, 0, 0, 0, 0, 0, 1, 1, 1, 1, 0, 0, 0,\n",
      "        0, 1, 1, 0, 0, 1, 0, 0, 0, 0, 0, 0, 0, 0, 0, 0]) tensor([   0,   10,   14,   33,   54,   66,  108,  118,  130,  139,  166,  184,\n",
      "         205,  214,  226,  260,  305,  317,  326,  351,  380,  407,  430,  457,\n",
      "         484,  502,  566,  572,  580,  592,  597,  630,  660,  679,  702,  741,\n",
      "         753,  769,  794,  832,  845,  862,  867,  889,  912,  921,  933,  959,\n",
      "         981,  997, 1014, 1031, 1048, 1063, 1104, 1113, 1133, 1156, 1177, 1221,\n",
      "        1257, 1266, 1296, 1301])\n",
      "tensor([[-0.0075, -0.1226],\n",
      "        [-0.0206, -0.1933],\n",
      "        [ 0.0164, -0.2568],\n",
      "        [ 0.0560, -0.2846],\n",
      "        [ 0.0473, -0.2593],\n",
      "        [ 0.0656, -0.2704],\n",
      "        [ 0.0956, -0.2452],\n",
      "        [ 0.1110, -0.2521],\n",
      "        [ 0.0476, -0.2066],\n",
      "        [ 0.1232, -0.2337],\n",
      "        [ 0.1737, -0.1911],\n",
      "        [ 0.1354, -0.2125],\n",
      "        [ 0.1297, -0.2118],\n",
      "        [ 0.1486, -0.2599],\n",
      "        [ 0.1624, -0.2393],\n",
      "        [ 0.1648, -0.2475],\n",
      "        [ 0.2251, -0.2265],\n",
      "        [ 0.2017, -0.1979],\n",
      "        [ 0.2372, -0.2850],\n",
      "        [ 0.2203, -0.2730],\n",
      "        [ 0.2115, -0.2409],\n",
      "        [ 0.2588, -0.2355],\n",
      "        [ 0.2316, -0.2330],\n",
      "        [ 0.2112, -0.2024],\n",
      "        [ 0.2162, -0.1842],\n",
      "        [ 0.2090, -0.2188],\n",
      "        [ 0.3101, -0.2414],\n",
      "        [ 0.2006, -0.1980],\n",
      "        [ 0.2320, -0.1781],\n",
      "        [ 0.1836, -0.1451],\n",
      "        [ 0.2043, -0.2060],\n",
      "        [ 0.1514, -0.1916],\n",
      "        [ 0.1679, -0.2426],\n",
      "        [ 0.1768, -0.2447],\n",
      "        [ 0.1940, -0.2234],\n",
      "        [ 0.1966, -0.2391],\n",
      "        [ 0.1784, -0.2518],\n",
      "        [ 0.2144, -0.1961],\n",
      "        [ 0.1960, -0.2271],\n",
      "        [ 0.1845, -0.1759],\n",
      "        [ 0.2308, -0.2110],\n",
      "        [ 0.1794, -0.1320],\n",
      "        [ 0.2744, -0.1772],\n",
      "        [ 0.2651, -0.2319],\n",
      "        [ 0.2539, -0.2614],\n",
      "        [ 0.2862, -0.2074],\n",
      "        [ 0.2613, -0.1792],\n",
      "        [ 0.2494, -0.1698],\n",
      "        [ 0.1895, -0.1653],\n",
      "        [ 0.1957, -0.1880],\n",
      "        [ 0.1811, -0.2310],\n",
      "        [ 0.2323, -0.2350],\n",
      "        [ 0.2066, -0.2064],\n",
      "        [ 0.2230, -0.2150],\n",
      "        [ 0.1944, -0.1350],\n",
      "        [ 0.1834, -0.1847],\n",
      "        [ 0.2359, -0.2162],\n",
      "        [ 0.2674, -0.2241],\n",
      "        [ 0.2888, -0.2321],\n",
      "        [ 0.2486, -0.1897],\n",
      "        [ 0.2341, -0.1615],\n",
      "        [ 0.2176, -0.2128],\n",
      "        [ 0.1989, -0.1402],\n",
      "        [ 0.1793, -0.1679]], grad_fn=<AddmmBackward0>)\n"
     ]
    }
   ],
   "source": [
    "for i, (txt, label, offset) in enumerate(train_dataloader):\n",
    "    print(label.shape)\n",
    "    print(label[0])\n",
    "    print(txt, label, offset)\n",
    "    print(model(txt, offset))\n",
    "    break"
   ],
   "metadata": {
    "collapsed": false,
    "pycharm": {
     "name": "#%%\n"
    }
   }
  },
  {
   "cell_type": "code",
   "execution_count": 17,
   "outputs": [],
   "source": [
    "# lets try these hyperparameters, losses, and optimizers instead and see our results\n",
    "\n",
    "epochs = 200\n",
    "LR = 2\n",
    "BATCH_SIZE = 64\n",
    "\n",
    "criterion = torch.nn.CrossEntropyLoss()\n",
    "optimizer = torch.optim.SGD(model.parameters(), lr=LR)\n",
    "scheduler = torch.optim.lr_scheduler.StepLR(optimizer, step_size=1.0, gamma=0.0001)\n",
    "total_accu = None"
   ],
   "metadata": {
    "collapsed": false,
    "pycharm": {
     "name": "#%%\n"
    }
   }
  },
  {
   "cell_type": "code",
   "execution_count": 18,
   "outputs": [],
   "source": [
    "# redfine our datasets\n",
    "\n",
    "train_dataloader = DataLoader(dataset=train_ds, batch_size=BATCH_SIZE, shuffle=True, collate_fn=collate_batch)\n",
    "test_dataloader = DataLoader(dataset=test_ds, batch_size=BATCH_SIZE, shuffle=True, collate_fn=collate_batch)"
   ],
   "metadata": {
    "collapsed": false,
    "pycharm": {
     "name": "#%%\n"
    }
   }
  },
  {
   "cell_type": "code",
   "execution_count": 19,
   "outputs": [],
   "source": [
    "import time\n",
    "\n",
    "def train(dataloader):\n",
    "    model.train()\n",
    "    total_accuracy, total_count = 0, 0\n",
    "    log_interval = 500\n",
    "    start_time = time.time()\n",
    "\n",
    "    for i, (texts, labels, offsets) in enumerate(dataloader):\n",
    "        optimizer.zero_grad()\n",
    "        pred = model(texts, offsets)\n",
    "        labels = torch.as_tensor([a.type(torch.LongTensor) for a in labels], dtype=torch.int64)\n",
    "        loss = criterion(pred, labels)\n",
    "        loss.backward()\n",
    "        torch.nn.utils.clip_grad_norm_(model.parameters(), 0.1)\n",
    "        optimizer.step()\n",
    "\n",
    "        #our result is the largest number's index of the prediction\n",
    "        total_accuracy += (pred.argmax(1) == labels).sum().item()\n",
    "        total_count += labels.size(0)\n",
    "\n",
    "        if i == 0:\n",
    "            print(loss)\n",
    "        if i % log_interval == 0 and i > 0:\n",
    "            elapsed = time.time() - start_time\n",
    "            print('| epoch {:3d} | {:5d}/{:5d} batches '\n",
    "                  '| accuracy {:8.3f}'.format(epoch, i, len(dataloader),\n",
    "                                              total_acc/total_count))\n",
    "            total_acc, total_count = 0, 0\n",
    "            start_time = time.time()\n",
    "\n",
    "def evaluate(dataloader):\n",
    "    model.eval()\n",
    "    total_acc, total_count = 0, 0\n",
    "\n",
    "    with torch.no_grad():\n",
    "        for idx, (texts, labels, offsets) in enumerate(dataloader):\n",
    "            pred = model(texts, offsets)\n",
    "            labels = torch.as_tensor([a.type(torch.LongTensor) for a in labels], dtype=torch.int64)\n",
    "            loss = criterion(pred, labels)\n",
    "            total_acc += (pred.argmax(1) == labels).sum().item()\n",
    "            total_count += labels.size(0)\n",
    "            # print(pred)\n",
    "    return total_acc/total_count\n",
    "\n",
    "\n",
    "\n"
   ],
   "metadata": {
    "collapsed": false,
    "pycharm": {
     "name": "#%%\n"
    }
   }
  },
  {
   "cell_type": "code",
   "execution_count": 20,
   "outputs": [
    {
     "name": "stdout",
     "output_type": "stream",
     "text": [
      "tensor(0.6226, grad_fn=<NllLossBackward0>)\n",
      "-----------------------------------------------------------\n",
      "| end of epoch   1 | time:  1.77s | valid accuracy    0.716 \n",
      "-----------------------------------------------------------\n",
      "tensor(0.6443, grad_fn=<NllLossBackward0>)\n",
      "-----------------------------------------------------------\n",
      "| end of epoch   2 | time:  1.64s | valid accuracy    0.716 \n",
      "-----------------------------------------------------------\n",
      "tensor(0.6283, grad_fn=<NllLossBackward0>)\n",
      "-----------------------------------------------------------\n",
      "| end of epoch   3 | time:  1.69s | valid accuracy    0.716 \n",
      "-----------------------------------------------------------\n",
      "tensor(0.5952, grad_fn=<NllLossBackward0>)\n",
      "-----------------------------------------------------------\n",
      "| end of epoch   4 | time:  1.83s | valid accuracy    0.716 \n",
      "-----------------------------------------------------------\n",
      "tensor(0.6172, grad_fn=<NllLossBackward0>)\n",
      "-----------------------------------------------------------\n",
      "| end of epoch   5 | time:  1.95s | valid accuracy    0.716 \n",
      "-----------------------------------------------------------\n",
      "tensor(0.5638, grad_fn=<NllLossBackward0>)\n",
      "-----------------------------------------------------------\n",
      "| end of epoch   6 | time:  1.89s | valid accuracy    0.735 \n",
      "-----------------------------------------------------------\n",
      "tensor(0.5546, grad_fn=<NllLossBackward0>)\n",
      "-----------------------------------------------------------\n",
      "| end of epoch   7 | time:  1.90s | valid accuracy    0.755 \n",
      "-----------------------------------------------------------\n",
      "tensor(0.4755, grad_fn=<NllLossBackward0>)\n",
      "-----------------------------------------------------------\n",
      "| end of epoch   8 | time:  1.94s | valid accuracy    0.792 \n",
      "-----------------------------------------------------------\n",
      "tensor(0.3280, grad_fn=<NllLossBackward0>)\n",
      "-----------------------------------------------------------\n",
      "| end of epoch   9 | time:  2.01s | valid accuracy    0.801 \n",
      "-----------------------------------------------------------\n",
      "tensor(0.2663, grad_fn=<NllLossBackward0>)\n",
      "-----------------------------------------------------------\n",
      "| end of epoch  10 | time:  1.94s | valid accuracy    0.849 \n",
      "-----------------------------------------------------------\n",
      "tensor(0.2099, grad_fn=<NllLossBackward0>)\n",
      "-----------------------------------------------------------\n",
      "| end of epoch  11 | time:  1.98s | valid accuracy    0.857 \n",
      "-----------------------------------------------------------\n",
      "tensor(0.4113, grad_fn=<NllLossBackward0>)\n",
      "-----------------------------------------------------------\n",
      "| end of epoch  12 | time:  1.85s | valid accuracy    0.912 \n",
      "-----------------------------------------------------------\n",
      "tensor(0.1460, grad_fn=<NllLossBackward0>)\n",
      "-----------------------------------------------------------\n",
      "| end of epoch  13 | time:  1.87s | valid accuracy    0.923 \n",
      "-----------------------------------------------------------\n",
      "tensor(0.1142, grad_fn=<NllLossBackward0>)\n",
      "-----------------------------------------------------------\n",
      "| end of epoch  14 | time:  2.09s | valid accuracy    0.927 \n",
      "-----------------------------------------------------------\n",
      "tensor(0.1162, grad_fn=<NllLossBackward0>)\n",
      "-----------------------------------------------------------\n",
      "| end of epoch  15 | time:  1.77s | valid accuracy    0.945 \n",
      "-----------------------------------------------------------\n",
      "tensor(0.0568, grad_fn=<NllLossBackward0>)\n",
      "-----------------------------------------------------------\n",
      "| end of epoch  16 | time:  1.77s | valid accuracy    0.938 \n",
      "-----------------------------------------------------------\n",
      "tensor(0.1610, grad_fn=<NllLossBackward0>)\n",
      "-----------------------------------------------------------\n",
      "| end of epoch  17 | time:  1.80s | valid accuracy    0.939 \n",
      "-----------------------------------------------------------\n",
      "tensor(0.0755, grad_fn=<NllLossBackward0>)\n",
      "-----------------------------------------------------------\n",
      "| end of epoch  18 | time:  1.93s | valid accuracy    0.934 \n",
      "-----------------------------------------------------------\n",
      "tensor(0.0899, grad_fn=<NllLossBackward0>)\n",
      "-----------------------------------------------------------\n",
      "| end of epoch  19 | time:  1.86s | valid accuracy    0.928 \n",
      "-----------------------------------------------------------\n",
      "tensor(0.0522, grad_fn=<NllLossBackward0>)\n",
      "-----------------------------------------------------------\n",
      "| end of epoch  20 | time:  1.81s | valid accuracy    0.939 \n",
      "-----------------------------------------------------------\n",
      "tensor(0.0947, grad_fn=<NllLossBackward0>)\n",
      "-----------------------------------------------------------\n",
      "| end of epoch  21 | time:  1.97s | valid accuracy    0.933 \n",
      "-----------------------------------------------------------\n",
      "tensor(0.0913, grad_fn=<NllLossBackward0>)\n",
      "-----------------------------------------------------------\n",
      "| end of epoch  22 | time:  2.04s | valid accuracy    0.927 \n",
      "-----------------------------------------------------------\n",
      "tensor(0.0737, grad_fn=<NllLossBackward0>)\n",
      "-----------------------------------------------------------\n",
      "| end of epoch  23 | time:  1.96s | valid accuracy    0.934 \n",
      "-----------------------------------------------------------\n",
      "tensor(0.0682, grad_fn=<NllLossBackward0>)\n",
      "-----------------------------------------------------------\n",
      "| end of epoch  24 | time:  1.89s | valid accuracy    0.932 \n",
      "-----------------------------------------------------------\n",
      "tensor(0.0642, grad_fn=<NllLossBackward0>)\n",
      "-----------------------------------------------------------\n",
      "| end of epoch  25 | time:  2.04s | valid accuracy    0.935 \n",
      "-----------------------------------------------------------\n",
      "tensor(0.0957, grad_fn=<NllLossBackward0>)\n",
      "-----------------------------------------------------------\n",
      "| end of epoch  26 | time:  1.93s | valid accuracy    0.934 \n",
      "-----------------------------------------------------------\n",
      "tensor(0.0860, grad_fn=<NllLossBackward0>)\n",
      "-----------------------------------------------------------\n",
      "| end of epoch  27 | time:  2.01s | valid accuracy    0.936 \n",
      "-----------------------------------------------------------\n",
      "tensor(0.0707, grad_fn=<NllLossBackward0>)\n",
      "-----------------------------------------------------------\n",
      "| end of epoch  28 | time:  1.98s | valid accuracy    0.939 \n",
      "-----------------------------------------------------------\n",
      "tensor(0.1389, grad_fn=<NllLossBackward0>)\n",
      "-----------------------------------------------------------\n",
      "| end of epoch  29 | time:  1.82s | valid accuracy    0.933 \n",
      "-----------------------------------------------------------\n",
      "tensor(0.0988, grad_fn=<NllLossBackward0>)\n",
      "-----------------------------------------------------------\n",
      "| end of epoch  30 | time:  1.86s | valid accuracy    0.932 \n",
      "-----------------------------------------------------------\n",
      "tensor(0.1136, grad_fn=<NllLossBackward0>)\n",
      "-----------------------------------------------------------\n",
      "| end of epoch  31 | time:  1.81s | valid accuracy    0.929 \n",
      "-----------------------------------------------------------\n",
      "tensor(0.0807, grad_fn=<NllLossBackward0>)\n",
      "-----------------------------------------------------------\n",
      "| end of epoch  32 | time:  1.97s | valid accuracy    0.935 \n",
      "-----------------------------------------------------------\n",
      "tensor(0.0631, grad_fn=<NllLossBackward0>)\n",
      "-----------------------------------------------------------\n",
      "| end of epoch  33 | time:  1.96s | valid accuracy    0.934 \n",
      "-----------------------------------------------------------\n",
      "tensor(0.0513, grad_fn=<NllLossBackward0>)\n"
     ]
    },
    {
     "ename": "KeyboardInterrupt",
     "evalue": "",
     "output_type": "error",
     "traceback": [
      "\u001B[1;31m---------------------------------------------------------------------------\u001B[0m",
      "\u001B[1;31mKeyboardInterrupt\u001B[0m                         Traceback (most recent call last)",
      "Input \u001B[1;32mIn [20]\u001B[0m, in \u001B[0;36m<cell line: 1>\u001B[1;34m()\u001B[0m\n\u001B[0;32m      1\u001B[0m \u001B[38;5;28;01mfor\u001B[39;00m epoch \u001B[38;5;129;01min\u001B[39;00m \u001B[38;5;28mrange\u001B[39m(\u001B[38;5;241m1\u001B[39m, epochs \u001B[38;5;241m+\u001B[39m \u001B[38;5;241m1\u001B[39m):\n\u001B[0;32m      2\u001B[0m     epoch_start_time \u001B[38;5;241m=\u001B[39m time\u001B[38;5;241m.\u001B[39mtime()\n\u001B[1;32m----> 3\u001B[0m     \u001B[43mtrain\u001B[49m\u001B[43m(\u001B[49m\u001B[43mtrain_dataloader\u001B[49m\u001B[43m)\u001B[49m\n\u001B[0;32m      4\u001B[0m     accu_val \u001B[38;5;241m=\u001B[39m evaluate(test_dataloader)\n\u001B[0;32m      6\u001B[0m     \u001B[38;5;28;01mif\u001B[39;00m total_accu \u001B[38;5;129;01mis\u001B[39;00m \u001B[38;5;129;01mnot\u001B[39;00m \u001B[38;5;28;01mNone\u001B[39;00m \u001B[38;5;129;01mand\u001B[39;00m total_accu \u001B[38;5;241m>\u001B[39m accu_val:\n",
      "Input \u001B[1;32mIn [19]\u001B[0m, in \u001B[0;36mtrain\u001B[1;34m(dataloader)\u001B[0m\n\u001B[0;32m      9\u001B[0m \u001B[38;5;28;01mfor\u001B[39;00m i, (texts, labels, offsets) \u001B[38;5;129;01min\u001B[39;00m \u001B[38;5;28menumerate\u001B[39m(dataloader):\n\u001B[0;32m     10\u001B[0m     optimizer\u001B[38;5;241m.\u001B[39mzero_grad()\n\u001B[1;32m---> 11\u001B[0m     pred \u001B[38;5;241m=\u001B[39m \u001B[43mmodel\u001B[49m\u001B[43m(\u001B[49m\u001B[43mtexts\u001B[49m\u001B[43m,\u001B[49m\u001B[43m \u001B[49m\u001B[43moffsets\u001B[49m\u001B[43m)\u001B[49m\n\u001B[0;32m     12\u001B[0m     labels \u001B[38;5;241m=\u001B[39m torch\u001B[38;5;241m.\u001B[39mas_tensor([a\u001B[38;5;241m.\u001B[39mtype(torch\u001B[38;5;241m.\u001B[39mLongTensor) \u001B[38;5;28;01mfor\u001B[39;00m a \u001B[38;5;129;01min\u001B[39;00m labels], dtype\u001B[38;5;241m=\u001B[39mtorch\u001B[38;5;241m.\u001B[39mint64)\n\u001B[0;32m     13\u001B[0m     loss \u001B[38;5;241m=\u001B[39m criterion(pred, labels)\n",
      "File \u001B[1;32m~\\Documents\\repos\\HappyClassifier\\HappyClassifierModels\\venv\\lib\\site-packages\\torch\\nn\\modules\\module.py:1110\u001B[0m, in \u001B[0;36mModule._call_impl\u001B[1;34m(self, *input, **kwargs)\u001B[0m\n\u001B[0;32m   1106\u001B[0m \u001B[38;5;66;03m# If we don't have any hooks, we want to skip the rest of the logic in\u001B[39;00m\n\u001B[0;32m   1107\u001B[0m \u001B[38;5;66;03m# this function, and just call forward.\u001B[39;00m\n\u001B[0;32m   1108\u001B[0m \u001B[38;5;28;01mif\u001B[39;00m \u001B[38;5;129;01mnot\u001B[39;00m (\u001B[38;5;28mself\u001B[39m\u001B[38;5;241m.\u001B[39m_backward_hooks \u001B[38;5;129;01mor\u001B[39;00m \u001B[38;5;28mself\u001B[39m\u001B[38;5;241m.\u001B[39m_forward_hooks \u001B[38;5;129;01mor\u001B[39;00m \u001B[38;5;28mself\u001B[39m\u001B[38;5;241m.\u001B[39m_forward_pre_hooks \u001B[38;5;129;01mor\u001B[39;00m _global_backward_hooks\n\u001B[0;32m   1109\u001B[0m         \u001B[38;5;129;01mor\u001B[39;00m _global_forward_hooks \u001B[38;5;129;01mor\u001B[39;00m _global_forward_pre_hooks):\n\u001B[1;32m-> 1110\u001B[0m     \u001B[38;5;28;01mreturn\u001B[39;00m forward_call(\u001B[38;5;241m*\u001B[39m\u001B[38;5;28minput\u001B[39m, \u001B[38;5;241m*\u001B[39m\u001B[38;5;241m*\u001B[39mkwargs)\n\u001B[0;32m   1111\u001B[0m \u001B[38;5;66;03m# Do not call functions when jit is used\u001B[39;00m\n\u001B[0;32m   1112\u001B[0m full_backward_hooks, non_full_backward_hooks \u001B[38;5;241m=\u001B[39m [], []\n",
      "Input \u001B[1;32mIn [11]\u001B[0m, in \u001B[0;36mHappyClassifierModel.forward\u001B[1;34m(self, text, offsets)\u001B[0m\n\u001B[0;32m     41\u001B[0m layer \u001B[38;5;241m=\u001B[39m \u001B[38;5;28mself\u001B[39m\u001B[38;5;241m.\u001B[39membedding(text, offsets)\n\u001B[0;32m     42\u001B[0m \u001B[38;5;66;03m# use output of lstm\u001B[39;00m\n\u001B[1;32m---> 43\u001B[0m layer \u001B[38;5;241m=\u001B[39m \u001B[38;5;28;43mself\u001B[39;49m\u001B[38;5;241;43m.\u001B[39;49m\u001B[43mlstm\u001B[49m\u001B[43m(\u001B[49m\u001B[43mlayer\u001B[49m\u001B[43m)\u001B[49m[\u001B[38;5;241m0\u001B[39m]\n\u001B[0;32m     44\u001B[0m layer \u001B[38;5;241m=\u001B[39m \u001B[38;5;28mself\u001B[39m\u001B[38;5;241m.\u001B[39mfc1(layer)\n\u001B[0;32m     45\u001B[0m layer \u001B[38;5;241m=\u001B[39m \u001B[38;5;28mself\u001B[39m\u001B[38;5;241m.\u001B[39mfc2(layer)\n",
      "File \u001B[1;32m~\\Documents\\repos\\HappyClassifier\\HappyClassifierModels\\venv\\lib\\site-packages\\torch\\nn\\modules\\module.py:1110\u001B[0m, in \u001B[0;36mModule._call_impl\u001B[1;34m(self, *input, **kwargs)\u001B[0m\n\u001B[0;32m   1106\u001B[0m \u001B[38;5;66;03m# If we don't have any hooks, we want to skip the rest of the logic in\u001B[39;00m\n\u001B[0;32m   1107\u001B[0m \u001B[38;5;66;03m# this function, and just call forward.\u001B[39;00m\n\u001B[0;32m   1108\u001B[0m \u001B[38;5;28;01mif\u001B[39;00m \u001B[38;5;129;01mnot\u001B[39;00m (\u001B[38;5;28mself\u001B[39m\u001B[38;5;241m.\u001B[39m_backward_hooks \u001B[38;5;129;01mor\u001B[39;00m \u001B[38;5;28mself\u001B[39m\u001B[38;5;241m.\u001B[39m_forward_hooks \u001B[38;5;129;01mor\u001B[39;00m \u001B[38;5;28mself\u001B[39m\u001B[38;5;241m.\u001B[39m_forward_pre_hooks \u001B[38;5;129;01mor\u001B[39;00m _global_backward_hooks\n\u001B[0;32m   1109\u001B[0m         \u001B[38;5;129;01mor\u001B[39;00m _global_forward_hooks \u001B[38;5;129;01mor\u001B[39;00m _global_forward_pre_hooks):\n\u001B[1;32m-> 1110\u001B[0m     \u001B[38;5;28;01mreturn\u001B[39;00m forward_call(\u001B[38;5;241m*\u001B[39m\u001B[38;5;28minput\u001B[39m, \u001B[38;5;241m*\u001B[39m\u001B[38;5;241m*\u001B[39mkwargs)\n\u001B[0;32m   1111\u001B[0m \u001B[38;5;66;03m# Do not call functions when jit is used\u001B[39;00m\n\u001B[0;32m   1112\u001B[0m full_backward_hooks, non_full_backward_hooks \u001B[38;5;241m=\u001B[39m [], []\n",
      "File \u001B[1;32m~\\Documents\\repos\\HappyClassifier\\HappyClassifierModels\\venv\\lib\\site-packages\\torch\\nn\\modules\\rnn.py:761\u001B[0m, in \u001B[0;36mLSTM.forward\u001B[1;34m(self, input, hx)\u001B[0m\n\u001B[0;32m    759\u001B[0m \u001B[38;5;28mself\u001B[39m\u001B[38;5;241m.\u001B[39mcheck_forward_args(\u001B[38;5;28minput\u001B[39m, hx, batch_sizes)\n\u001B[0;32m    760\u001B[0m \u001B[38;5;28;01mif\u001B[39;00m batch_sizes \u001B[38;5;129;01mis\u001B[39;00m \u001B[38;5;28;01mNone\u001B[39;00m:\n\u001B[1;32m--> 761\u001B[0m     result \u001B[38;5;241m=\u001B[39m \u001B[43m_VF\u001B[49m\u001B[38;5;241;43m.\u001B[39;49m\u001B[43mlstm\u001B[49m\u001B[43m(\u001B[49m\u001B[38;5;28;43minput\u001B[39;49m\u001B[43m,\u001B[49m\u001B[43m \u001B[49m\u001B[43mhx\u001B[49m\u001B[43m,\u001B[49m\u001B[43m \u001B[49m\u001B[38;5;28;43mself\u001B[39;49m\u001B[38;5;241;43m.\u001B[39;49m\u001B[43m_flat_weights\u001B[49m\u001B[43m,\u001B[49m\u001B[43m \u001B[49m\u001B[38;5;28;43mself\u001B[39;49m\u001B[38;5;241;43m.\u001B[39;49m\u001B[43mbias\u001B[49m\u001B[43m,\u001B[49m\u001B[43m \u001B[49m\u001B[38;5;28;43mself\u001B[39;49m\u001B[38;5;241;43m.\u001B[39;49m\u001B[43mnum_layers\u001B[49m\u001B[43m,\u001B[49m\n\u001B[0;32m    762\u001B[0m \u001B[43m                      \u001B[49m\u001B[38;5;28;43mself\u001B[39;49m\u001B[38;5;241;43m.\u001B[39;49m\u001B[43mdropout\u001B[49m\u001B[43m,\u001B[49m\u001B[43m \u001B[49m\u001B[38;5;28;43mself\u001B[39;49m\u001B[38;5;241;43m.\u001B[39;49m\u001B[43mtraining\u001B[49m\u001B[43m,\u001B[49m\u001B[43m \u001B[49m\u001B[38;5;28;43mself\u001B[39;49m\u001B[38;5;241;43m.\u001B[39;49m\u001B[43mbidirectional\u001B[49m\u001B[43m,\u001B[49m\u001B[43m \u001B[49m\u001B[38;5;28;43mself\u001B[39;49m\u001B[38;5;241;43m.\u001B[39;49m\u001B[43mbatch_first\u001B[49m\u001B[43m)\u001B[49m\n\u001B[0;32m    763\u001B[0m \u001B[38;5;28;01melse\u001B[39;00m:\n\u001B[0;32m    764\u001B[0m     result \u001B[38;5;241m=\u001B[39m _VF\u001B[38;5;241m.\u001B[39mlstm(\u001B[38;5;28minput\u001B[39m, batch_sizes, hx, \u001B[38;5;28mself\u001B[39m\u001B[38;5;241m.\u001B[39m_flat_weights, \u001B[38;5;28mself\u001B[39m\u001B[38;5;241m.\u001B[39mbias,\n\u001B[0;32m    765\u001B[0m                       \u001B[38;5;28mself\u001B[39m\u001B[38;5;241m.\u001B[39mnum_layers, \u001B[38;5;28mself\u001B[39m\u001B[38;5;241m.\u001B[39mdropout, \u001B[38;5;28mself\u001B[39m\u001B[38;5;241m.\u001B[39mtraining, \u001B[38;5;28mself\u001B[39m\u001B[38;5;241m.\u001B[39mbidirectional)\n",
      "\u001B[1;31mKeyboardInterrupt\u001B[0m: "
     ]
    }
   ],
   "source": [
    "for epoch in range(1, epochs + 1):\n",
    "    epoch_start_time = time.time()\n",
    "    train(train_dataloader)\n",
    "    accu_val = evaluate(test_dataloader)\n",
    "\n",
    "    if total_accu is not None and total_accu > accu_val:\n",
    "        scheduler.step()\n",
    "    else:\n",
    "        total_accu = accu_val\n",
    "    print('-' * 59)\n",
    "    print('| end of epoch {:3d} | time: {:5.2f}s | '\n",
    "          'valid accuracy {:8.3f} '.format(epoch,\n",
    "                                           time.time() - epoch_start_time,\n",
    "                                           accu_val))\n",
    "    print('-' * 59)"
   ],
   "metadata": {
    "collapsed": false,
    "pycharm": {
     "name": "#%%\n"
    }
   }
  },
  {
   "cell_type": "code",
   "execution_count": null,
   "outputs": [],
   "source": [
    "epochs = 200"
   ],
   "metadata": {
    "collapsed": false,
    "pycharm": {
     "name": "#%%\n"
    }
   }
  },
  {
   "cell_type": "code",
   "execution_count": null,
   "outputs": [],
   "source": [],
   "metadata": {
    "collapsed": false,
    "pycharm": {
     "name": "#%%\n"
    }
   }
  },
  {
   "cell_type": "code",
   "execution_count": null,
   "outputs": [],
   "source": [],
   "metadata": {
    "collapsed": false,
    "pycharm": {
     "name": "#%%\n"
    }
   }
  },
  {
   "cell_type": "code",
   "execution_count": null,
   "outputs": [],
   "source": [
    "a = torch.tensor(0.6, dtype=torch.float32)"
   ],
   "metadata": {
    "collapsed": false,
    "pycharm": {
     "name": "#%%\n"
    }
   }
  },
  {
   "cell_type": "code",
   "execution_count": null,
   "outputs": [],
   "source": [
    "a.argmax(0)"
   ],
   "metadata": {
    "collapsed": false,
    "pycharm": {
     "name": "#%%\n"
    }
   }
  },
  {
   "cell_type": "code",
   "execution_count": null,
   "outputs": [],
   "source": [
    "predicted_label = torch.tensor([0.2, 0.3, 0.3, 0.3])\n",
    "label = 1.\n",
    "a = (predicted_label.argmax(1) == label)\n",
    "b = a.sum()\n",
    "c = b.item()\n",
    "print(a,b,c)"
   ],
   "metadata": {
    "collapsed": false,
    "pycharm": {
     "name": "#%%\n"
    }
   }
  },
  {
   "cell_type": "code",
   "execution_count": null,
   "outputs": [],
   "source": [],
   "metadata": {
    "collapsed": false,
    "pycharm": {
     "name": "#%%\n"
    }
   }
  },
  {
   "cell_type": "code",
   "execution_count": null,
   "outputs": [],
   "source": [
    "a = [1,2,3,4]\n",
    "b = [5,6,7,8]"
   ],
   "metadata": {
    "collapsed": false,
    "pycharm": {
     "name": "#%%\n"
    }
   }
  },
  {
   "cell_type": "code",
   "execution_count": null,
   "outputs": [],
   "source": [
    "torch.cat([torch.as_tensor(a),torch.as_tensor(b)])"
   ],
   "metadata": {
    "collapsed": false,
    "pycharm": {
     "name": "#%%\n"
    }
   }
  },
  {
   "cell_type": "code",
   "execution_count": null,
   "outputs": [],
   "source": [],
   "metadata": {
    "collapsed": false,
    "pycharm": {
     "name": "#%%\n"
    }
   }
  }
 ],
 "metadata": {
  "kernelspec": {
   "display_name": "Python 3",
   "language": "python",
   "name": "python3"
  },
  "language_info": {
   "codemirror_mode": {
    "name": "ipython",
    "version": 2
   },
   "file_extension": ".py",
   "mimetype": "text/x-python",
   "name": "python",
   "nbconvert_exporter": "python",
   "pygments_lexer": "ipython2",
   "version": "2.7.6"
  }
 },
 "nbformat": 4,
 "nbformat_minor": 0
}
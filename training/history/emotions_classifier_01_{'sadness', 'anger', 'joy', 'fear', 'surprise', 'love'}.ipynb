{
 "cells": [
  {
   "cell_type": "code",
   "execution_count": 1,
   "outputs": [],
   "source": [
    "import tensorflow as tf\n",
    "import numpy as np\n",
    "import os\n",
    "import matplotlib.pyplot as plt"
   ],
   "metadata": {
    "collapsed": false,
    "pycharm": {
     "name": "#%%\n"
    }
   }
  },
  {
   "cell_type": "markdown",
   "source": [
    "Note:\n",
    "The nature of datasets can be explicit and any observer using this for information is advised that the use of this public dataset was not censored in any way. That being said, it does not break any rules of being a well established public dataset resource.\n",
    "This notebook uses a custom __init__.py within tensorflow that allows autocompletion by adding lines to the end of the script -- see https://stackoverflow.com/questions/68860879/vscode-keras-intellisensesuggestion-not-working-properly\n"
   ],
   "metadata": {
    "collapsed": false,
    "pycharm": {
     "name": "#%% md\n"
    }
   }
  },
  {
   "cell_type": "code",
   "execution_count": 2,
   "outputs": [],
   "source": [
    "physical_devices = tf.config.list_physical_devices()"
   ],
   "metadata": {
    "collapsed": false,
    "pycharm": {
     "name": "#%%\n"
    }
   }
  },
  {
   "cell_type": "code",
   "execution_count": 3,
   "outputs": [],
   "source": [
    "tf.config.set_visible_devices(physical_devices[:1])"
   ],
   "metadata": {
    "collapsed": false,
    "pycharm": {
     "name": "#%%\n"
    }
   }
  },
  {
   "cell_type": "markdown",
   "source": [
    "Inspect our public dataset and load it into memory"
   ],
   "metadata": {
    "collapsed": false,
    "pycharm": {
     "name": "#%% md\n"
    }
   }
  },
  {
   "cell_type": "code",
   "execution_count": 4,
   "outputs": [],
   "source": [
    "def load_data(fn:str):\n",
    "    txt_path = os.path.join(os.getcwd(), \"..\", \"datasets\", \"emotions\", fn)\n",
    "\n",
    "    res = {}\n",
    "    with open(txt_path) as f:\n",
    "        lines = f.readlines()\n",
    "        for line in lines:\n",
    "            line_split = line.split(\";\")\n",
    "            line, emotion = line_split\n",
    "            res[line] = emotion.strip()\n",
    "    return res\n"
   ],
   "metadata": {
    "collapsed": false,
    "pycharm": {
     "name": "#%%\n"
    }
   }
  },
  {
   "cell_type": "code",
   "execution_count": 5,
   "outputs": [
    {
     "name": "stdout",
     "output_type": "stream",
     "text": [
      "i didnt feel humiliated ,  sadness\n",
      "i can go from feeling so hopeless to so damned hopeful just from being around someone who cares and is awake ,  sadness\n",
      "im grabbing a minute to post i feel greedy wrong ,  anger\n",
      "i am ever feeling nostalgic about the fireplace i will know that it is still on the property ,  love\n",
      "i am feeling grouchy ,  anger\n"
     ]
    }
   ],
   "source": [
    "data = load_data(\"train.txt\")\n",
    "data_iter = iter(data)\n",
    "for i in range(5):\n",
    "    sample_k = next(data_iter)\n",
    "    print(sample_k, \", \", data[sample_k])"
   ],
   "metadata": {
    "collapsed": false,
    "pycharm": {
     "name": "#%%\n"
    }
   }
  },
  {
   "cell_type": "code",
   "execution_count": 6,
   "outputs": [
    {
     "name": "stdout",
     "output_type": "stream",
     "text": [
      "{'sadness', 'anger', 'joy', 'fear', 'surprise', 'love'}\n"
     ]
    }
   ],
   "source": [
    "print(set(data.values()))"
   ],
   "metadata": {
    "collapsed": false,
    "pycharm": {
     "name": "#%%\n"
    }
   }
  },
  {
   "cell_type": "code",
   "execution_count": 7,
   "outputs": [],
   "source": [
    "def one_hot_encode_values_map_fn(data_map):\n",
    "    unique_values = set(data_map.values())\n",
    "    n = len(unique_values)\n",
    "    encoded_values_to_float = {}\n",
    "    for i, val in enumerate(unique_values):\n",
    "        encoded_values_to_float[val] = i / (n - 1)\n",
    "    return encoded_values_to_float\n",
    "\n",
    "def one_hot_encode_values(data_map, values_map):\n",
    "    for k, v in data_map.items():\n",
    "        data_map[k] = values_map[v]\n",
    "    return data_map"
   ],
   "metadata": {
    "collapsed": false,
    "pycharm": {
     "name": "#%%\n"
    }
   }
  },
  {
   "cell_type": "code",
   "execution_count": 8,
   "outputs": [],
   "source": [
    "one_hot_encoded_values_map = one_hot_encode_values_map_fn(data)\n",
    "one_hot_encode_values(data, one_hot_encoded_values_map)\n",
    "pass"
   ],
   "metadata": {
    "collapsed": false,
    "pycharm": {
     "name": "#%%\n"
    }
   }
  },
  {
   "cell_type": "code",
   "execution_count": 9,
   "outputs": [],
   "source": [
    "data_test = load_data(\"test.txt\")\n",
    "one_hot_encoded_values_map = one_hot_encode_values_map_fn(data_test)\n",
    "one_hot_encode_values(data_test, one_hot_encoded_values_map)\n",
    "pass"
   ],
   "metadata": {
    "collapsed": false,
    "pycharm": {
     "name": "#%%\n"
    }
   }
  },
  {
   "cell_type": "markdown",
   "source": [
    "Observations: Clearly the labeling process had ambiguities -- there is no clear seperation here between conversational and mood.\n",
    "Will still try to work with this dataset then speculate when appropriate."
   ],
   "metadata": {
    "collapsed": false,
    "pycharm": {
     "name": "#%% md\n"
    }
   }
  },
  {
   "cell_type": "markdown",
   "source": [
    "Since all our data fits in memory and the dataset isn't enormous this should train relatively quickly"
   ],
   "metadata": {
    "collapsed": false,
    "pycharm": {
     "name": "#%% md\n"
    }
   }
  },
  {
   "cell_type": "markdown",
   "source": [
    "Create our naive nlp model without too many optimizations"
   ],
   "metadata": {
    "collapsed": false,
    "pycharm": {
     "name": "#%% md\n"
    }
   }
  },
  {
   "cell_type": "code",
   "execution_count": 10,
   "outputs": [],
   "source": [
    "VOCAB_SIZE = 1500\n",
    "encoder = tf.keras.layers.TextVectorization(max_tokens=VOCAB_SIZE)\n",
    "encoder.adapt(list(data.keys()))"
   ],
   "metadata": {
    "collapsed": false,
    "pycharm": {
     "name": "#%%\n"
    }
   }
  },
  {
   "cell_type": "code",
   "execution_count": 11,
   "outputs": [],
   "source": [
    "vocab = np.array(encoder.get_vocabulary())"
   ],
   "metadata": {
    "collapsed": false,
    "pycharm": {
     "name": "#%%\n"
    }
   }
  },
  {
   "cell_type": "code",
   "execution_count": 12,
   "outputs": [
    {
     "data": {
      "text/plain": "array(['', '[UNK]', 'i', 'feel', 'and', 'to', 'the', 'a', 'feeling',\n       'that', 'of', 'my', 'in', 'it', 'like', 'so', 'im', 'for', 'me',\n       'but'], dtype='<U13')"
     },
     "execution_count": 12,
     "metadata": {},
     "output_type": "execute_result"
    }
   ],
   "source": [
    "vocab[:20]"
   ],
   "metadata": {
    "collapsed": false,
    "pycharm": {
     "name": "#%%\n"
    }
   }
  },
  {
   "cell_type": "code",
   "execution_count": 13,
   "outputs": [
    {
     "name": "stdout",
     "output_type": "stream",
     "text": [
      "tf.Tensor([   2   24    8 1086], shape=(4,), dtype=int64) \n",
      " i am feeling grouchy\n"
     ]
    }
   ],
   "source": [
    "encoded_line = encoder(sample_k)\n",
    "print(encoded_line, '\\n', sample_k)"
   ],
   "metadata": {
    "collapsed": false,
    "pycharm": {
     "name": "#%%\n"
    }
   }
  },
  {
   "cell_type": "code",
   "execution_count": 14,
   "outputs": [],
   "source": [
    "\n",
    "def create_original(encoded_line: tf.Tensor):\n",
    "    round_trip = []\n",
    "    for num in encoded_line.numpy():\n",
    "        round_trip.append(vocab[num])\n",
    "    return \" \".join(round_trip)\n",
    "\n",
    "def show_samples(n, iter):\n",
    "    for i in range(n):\n",
    "        gt_str = next(iter)\n",
    "        encoded_line = encoder(gt_str)\n",
    "        print(encoded_line.numpy())\n",
    "        original = create_original(encoded_line)\n",
    "        print(original)\n",
    "        print(gt_str)"
   ],
   "metadata": {
    "collapsed": false,
    "pycharm": {
     "name": "#%%\n"
    }
   }
  },
  {
   "cell_type": "code",
   "execution_count": 15,
   "outputs": [
    {
     "name": "stdout",
     "output_type": "stream",
     "text": [
      "[ 73  48   8   7  56 527 320 328 160 161   9  20]\n",
      "ive been feeling a little burdened lately wasnt sure why that was\n",
      "ive been feeling a little burdened lately wasnt sure why that was\n",
      "[  73   48  331   35    1   35  196    1  901    4   73    1 1427    7\n",
      "  159    1   19    2  118    3   14   15  461]\n",
      "ive been taking or [UNK] or times [UNK] amount and ive [UNK] asleep a lot [UNK] but i also feel like so funny\n",
      "ive been taking or milligrams or times recommended amount and ive fallen asleep a lot faster but i also feel like so funny\n",
      "[  2   3  29 447  27  78  29   7   1  35  29 762  29   7 193 268 373]\n",
      "i feel as confused about life as a [UNK] or as jaded as a year old man\n",
      "i feel as confused about life as a teenager or as jaded as a year old man\n",
      "[   2   21   48   25    1   17  216    2    3    9    1   99    1  136\n",
      "    4  132    7 1045    1]\n",
      "i have been with [UNK] for years i feel that [UNK] has [UNK] well and made a huge [UNK]\n",
      "i have been with petronas for years i feel that petronas has performed well and made a huge profit\n"
     ]
    }
   ],
   "source": [
    "show_samples(4, data_iter)"
   ],
   "metadata": {
    "collapsed": false,
    "pycharm": {
     "name": "#%%\n"
    }
   }
  },
  {
   "cell_type": "markdown",
   "source": [
    "Our TextVectorization layer adapted and encoded our strings for us"
   ],
   "metadata": {
    "collapsed": false,
    "pycharm": {
     "name": "#%% md\n"
    }
   }
  },
  {
   "cell_type": "code",
   "execution_count": 16,
   "outputs": [],
   "source": [
    "def create_model():\n",
    "    input = tf.keras.Input((1,), dtype=tf.dtypes.string)\n",
    "    layer = encoder(input)\n",
    "    layer = tf.keras.layers.Embedding(input_dim=len(encoder.get_vocabulary()),\n",
    "                                      output_dim=64,\n",
    "                                      mask_zero=True)(layer)\n",
    "    layer = tf.keras.layers.Bidirectional(layer=tf.keras.layers.LSTM(units=64))(layer)\n",
    "    layer = tf.keras.layers.Dense(64, activation=\"relu\")(layer)\n",
    "    layer = tf.keras.layers.Dense(1)(layer)\n",
    "\n",
    "    return tf.keras.Model(inputs=input, outputs=layer, name=\"nlp_rnn_classifier\")"
   ],
   "metadata": {
    "collapsed": false,
    "pycharm": {
     "name": "#%%\n"
    }
   }
  },
  {
   "cell_type": "code",
   "execution_count": 17,
   "outputs": [],
   "source": [
    "model = create_model()"
   ],
   "metadata": {
    "collapsed": false,
    "pycharm": {
     "name": "#%%\n"
    }
   }
  },
  {
   "cell_type": "code",
   "execution_count": 18,
   "outputs": [
    {
     "data": {
      "text/plain": "<keras.engine.functional.Functional at 0x1c747912df0>"
     },
     "execution_count": 18,
     "metadata": {},
     "output_type": "execute_result"
    }
   ],
   "source": [
    "model"
   ],
   "metadata": {
    "collapsed": false,
    "pycharm": {
     "name": "#%%\n"
    }
   }
  },
  {
   "cell_type": "code",
   "execution_count": 19,
   "outputs": [
    {
     "data": {
      "image/png": "[encoded data removed]",
      "text/plain": "<IPython.core.display.Image object>"
     },
     "execution_count": 19,
     "metadata": {},
     "output_type": "execute_result"
    }
   ],
   "source": [
    "tf.keras.utils.plot_model(model,\n",
    "                          show_shapes=True,\n",
    "                          expand_nested=True,\n",
    "                          show_layer_activations=True,\n",
    "                          show_dtype=True)"
   ],
   "metadata": {
    "collapsed": false,
    "pycharm": {
     "name": "#%%\n"
    }
   }
  },
  {
   "cell_type": "code",
   "execution_count": 20,
   "outputs": [],
   "source": [
    "sample_text = \"the sun was shining and i am in a happy mood.\""
   ],
   "metadata": {
    "collapsed": false,
    "pycharm": {
     "name": "#%%\n"
    }
   }
  },
  {
   "cell_type": "code",
   "execution_count": 21,
   "outputs": [
    {
     "data": {
      "text/plain": "array(['the sun was shining and i am in a happy mood.'], dtype='<U45')"
     },
     "execution_count": 21,
     "metadata": {},
     "output_type": "execute_result"
    }
   ],
   "source": [
    "np.array([sample_text])"
   ],
   "metadata": {
    "collapsed": false,
    "pycharm": {
     "name": "#%%\n"
    }
   }
  },
  {
   "cell_type": "code",
   "execution_count": 22,
   "outputs": [
    {
     "name": "stdout",
     "output_type": "stream",
     "text": [
      "1/1 [==============================] - 1s 1s/step\n"
     ]
    }
   ],
   "source": [
    "predictions = model.predict(np.array([sample_text]))"
   ],
   "metadata": {
    "collapsed": false,
    "pycharm": {
     "name": "#%%\n"
    }
   }
  },
  {
   "cell_type": "code",
   "execution_count": 23,
   "outputs": [
    {
     "data": {
      "text/plain": "array([[-0.00156119]], dtype=float32)"
     },
     "execution_count": 23,
     "metadata": {},
     "output_type": "execute_result"
    }
   ],
   "source": [
    "predictions"
   ],
   "metadata": {
    "collapsed": false,
    "pycharm": {
     "name": "#%%\n"
    }
   }
  },
  {
   "cell_type": "code",
   "execution_count": 24,
   "outputs": [
    {
     "name": "stdout",
     "output_type": "stream",
     "text": [
      "[True, False, True, True, True, True]\n"
     ]
    }
   ],
   "source": [
    "print([layer.supports_masking for layer in model.layers])"
   ],
   "metadata": {
    "collapsed": false,
    "pycharm": {
     "name": "#%%\n"
    }
   }
  },
  {
   "cell_type": "code",
   "execution_count": 25,
   "outputs": [],
   "source": [
    "# Multi-label classification\n",
    "loss_function = tf.keras.losses.BinaryCrossentropy(from_logits=True)\n",
    "\n",
    "# not too afraid of the gradients with this dataset\n",
    "optimizer = tf.keras.optimizers.Adam(0.001)"
   ],
   "metadata": {
    "collapsed": false,
    "pycharm": {
     "name": "#%%\n"
    }
   }
  },
  {
   "cell_type": "code",
   "execution_count": 26,
   "outputs": [],
   "source": [
    "model.compile(loss=loss_function,\n",
    "              optimizer=optimizer,\n",
    "              metrics=['accuracy'])"
   ],
   "metadata": {
    "collapsed": false,
    "pycharm": {
     "name": "#%%\n"
    }
   }
  },
  {
   "cell_type": "code",
   "execution_count": 27,
   "outputs": [
    {
     "name": "stdout",
     "output_type": "stream",
     "text": [
      "Epoch 1/10\n",
      "500/500 [==============================] - 16s 24ms/step - loss: 0.5435 - accuracy: 0.3226 - val_loss: 0.4899 - val_accuracy: 0.3480\n",
      "Epoch 2/10\n",
      "500/500 [==============================] - 9s 17ms/step - loss: 0.4640 - accuracy: 0.3586 - val_loss: 0.4692 - val_accuracy: 0.3535\n",
      "Epoch 3/10\n",
      "500/500 [==============================] - 9s 17ms/step - loss: 0.4456 - accuracy: 0.3634 - val_loss: 0.4642 - val_accuracy: 0.3565\n",
      "Epoch 4/10\n",
      "500/500 [==============================] - 10s 19ms/step - loss: 0.4370 - accuracy: 0.3654 - val_loss: 0.4628 - val_accuracy: 0.3520\n",
      "Epoch 5/10\n",
      "500/500 [==============================] - 10s 19ms/step - loss: 0.4285 - accuracy: 0.3663 - val_loss: 0.4840 - val_accuracy: 0.3555\n",
      "Epoch 6/10\n",
      "500/500 [==============================] - 10s 20ms/step - loss: 0.4248 - accuracy: 0.3670 - val_loss: 0.4732 - val_accuracy: 0.3615\n",
      "Epoch 7/10\n",
      "500/500 [==============================] - 10s 20ms/step - loss: 0.4193 - accuracy: 0.3677 - val_loss: 0.4716 - val_accuracy: 0.3550\n",
      "Epoch 8/10\n",
      "500/500 [==============================] - 10s 19ms/step - loss: 0.4161 - accuracy: 0.3676 - val_loss: 0.4740 - val_accuracy: 0.3590\n",
      "Epoch 9/10\n",
      "500/500 [==============================] - 10s 19ms/step - loss: 0.4131 - accuracy: 0.3692 - val_loss: 0.4705 - val_accuracy: 0.3535\n",
      "Epoch 10/10\n",
      "500/500 [==============================] - 10s 19ms/step - loss: 0.4095 - accuracy: 0.3694 - val_loss: 0.4980 - val_accuracy: 0.3555\n"
     ]
    }
   ],
   "source": [
    "history = model.fit(x=tf.convert_to_tensor(np.asarray(list(data.keys()))),\n",
    "                    y=tf.convert_to_tensor(np.asarray(list(data.values()))),\n",
    "                    validation_data=(list(data_test.keys()), list(data_test.values())),\n",
    "                    validation_steps=30,\n",
    "                    epochs=10)"
   ],
   "metadata": {
    "collapsed": false,
    "pycharm": {
     "name": "#%%\n"
    }
   }
  },
  {
   "cell_type": "code",
   "execution_count": 28,
   "outputs": [],
   "source": [
    "def plot_graphs(history, metric):\n",
    "  plt.plot(history.history[metric])\n",
    "  plt.plot(history.history['val_'+metric], '')\n",
    "  plt.xlabel(\"Epochs\")\n",
    "  plt.ylabel(metric)\n",
    "  plt.legend([metric, 'val_'+metric])"
   ],
   "metadata": {
    "collapsed": false,
    "pycharm": {
     "name": "#%%\n"
    }
   }
  },
  {
   "cell_type": "code",
   "execution_count": 29,
   "outputs": [
    {
     "data": {
      "text/plain": "(0.0, 0.3717421188950539)"
     },
     "execution_count": 29,
     "metadata": {},
     "output_type": "execute_result"
    },
    {
     "data": {
      "text/plain": "<Figure size 1152x576 with 2 Axes>",
      "image/png": "[encoded data removed]"
     },
     "metadata": {
      "needs_background": "light"
     },
     "output_type": "display_data"
    }
   ],
   "source": [
    "plt.figure(figsize=(16,8))\n",
    "plt.subplot(1, 2, 1)\n",
    "plot_graphs(history, 'accuracy')\n",
    "plt.ylim(None, 1)\n",
    "plt.subplot(1, 2, 2)\n",
    "plot_graphs(history, 'accuracy')\n",
    "plt.ylim(0, None)"
   ],
   "metadata": {
    "collapsed": false,
    "pycharm": {
     "name": "#%%\n"
    }
   }
  },
  {
   "cell_type": "code",
   "execution_count": 29,
   "outputs": [],
   "source": [],
   "metadata": {
    "collapsed": false,
    "pycharm": {
     "name": "#%%\n"
    }
   }
  }
 ],
 "metadata": {
  "kernelspec": {
   "display_name": "Python 3",
   "language": "python",
   "name": "python3"
  },
  "language_info": {
   "codemirror_mode": {
    "name": "ipython",
    "version": 2
   },
   "file_extension": ".py",
   "mimetype": "text/x-python",
   "name": "python",
   "nbconvert_exporter": "python",
   "pygments_lexer": "ipython2",
   "version": "2.7.6"
  }
 },
 "nbformat": 4,
 "nbformat_minor": 0
}
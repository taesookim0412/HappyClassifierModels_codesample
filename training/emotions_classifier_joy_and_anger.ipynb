{
 "cells": [
  {
   "cell_type": "code",
   "execution_count": 1,
   "outputs": [],
   "source": [
    "import tensorflow as tf\n",
    "import numpy as np\n",
    "import os\n",
    "import matplotlib.pyplot as plt"
   ],
   "metadata": {
    "collapsed": false,
    "pycharm": {
     "name": "#%%\n"
    }
   }
  },
  {
   "cell_type": "markdown",
   "source": [
    "Note:\n",
    "The nature of datasets can be explicit and any observer using this for information is advised that the use of this public dataset was not censored in any way. That being said, it does not break any rules of being a well established public dataset resource.\n",
    "This notebook uses a custom __init__.py within tensorflow that allows autocompletion by adding lines to the end of the script -- see https://stackoverflow.com/questions/68860879/vscode-keras-intellisensesuggestion-not-working-properly\n"
   ],
   "metadata": {
    "collapsed": false,
    "pycharm": {
     "name": "#%% md\n"
    }
   }
  },
  {
   "cell_type": "code",
   "execution_count": 2,
   "outputs": [],
   "source": [
    "physical_devices = tf.config.list_physical_devices()"
   ],
   "metadata": {
    "collapsed": false,
    "pycharm": {
     "name": "#%%\n"
    }
   }
  },
  {
   "cell_type": "code",
   "execution_count": 3,
   "outputs": [],
   "source": [
    "tf.config.set_visible_devices(physical_devices[:1])"
   ],
   "metadata": {
    "collapsed": false,
    "pycharm": {
     "name": "#%%\n"
    }
   }
  },
  {
   "cell_type": "markdown",
   "source": [
    "Inspect our public dataset and load it into memory"
   ],
   "metadata": {
    "collapsed": false,
    "pycharm": {
     "name": "#%% md\n"
    }
   }
  },
  {
   "cell_type": "code",
   "execution_count": 4,
   "outputs": [],
   "source": [
    "def load_data(fn:str):\n",
    "    txt_path = os.path.join(os.getcwd(), \"..\", \"datasets\", \"emotions\", fn)\n",
    "\n",
    "    res = {}\n",
    "    with open(txt_path) as f:\n",
    "        lines = f.readlines()\n",
    "        for line in lines:\n",
    "            line_split = line.split(\";\")\n",
    "            line, emotion = line_split\n",
    "            emotion = emotion.strip()\n",
    "            if emotion == 'joy' or emotion == 'anger':\n",
    "                res[line] = emotion.strip()\n",
    "    print(f'loaded {len(res)} items');\n",
    "    return res\n"
   ],
   "metadata": {
    "collapsed": false,
    "pycharm": {
     "name": "#%%\n"
    }
   }
  },
  {
   "cell_type": "code",
   "execution_count": 5,
   "outputs": [
    {
     "name": "stdout",
     "output_type": "stream",
     "text": [
      "loaded 7520 items\n",
      "im grabbing a minute to post i feel greedy wrong ,  anger\n",
      "i am feeling grouchy ,  anger\n",
      "i have been with petronas for years i feel that petronas has performed well and made a huge profit ,  joy\n",
      "i do feel that running is a divine experience and that i can expect to have some type of spiritual encounter ,  joy\n",
      "i think it s the easiest time of year to feel dissatisfied ,  anger\n"
     ]
    }
   ],
   "source": [
    "data = load_data(\"train.txt\")\n",
    "data_iter = iter(data)\n",
    "for i in range(5):\n",
    "    sample_k = next(data_iter)\n",
    "    print(sample_k, \", \", data[sample_k])"
   ],
   "metadata": {
    "collapsed": false,
    "pycharm": {
     "name": "#%%\n"
    }
   }
  },
  {
   "cell_type": "code",
   "execution_count": 6,
   "outputs": [
    {
     "name": "stdout",
     "output_type": "stream",
     "text": [
      "{'joy', 'anger'}\n"
     ]
    }
   ],
   "source": [
    "print(set(data.values()))"
   ],
   "metadata": {
    "collapsed": false,
    "pycharm": {
     "name": "#%%\n"
    }
   }
  },
  {
   "cell_type": "code",
   "execution_count": 7,
   "outputs": [],
   "source": [
    "def one_hot_encode_values_map_fn(data_map):\n",
    "    unique_values = {\n",
    "        'joy':0.,\n",
    "        'anger':1.\n",
    "    }\n",
    "    n = len(unique_values)\n",
    "    encoded_values_to_float = {}\n",
    "    for i, val in enumerate(unique_values):\n",
    "        encoded_values_to_float[val] = i / (n - 1)\n",
    "    print(encoded_values_to_float)\n",
    "    return encoded_values_to_float\n",
    "\n",
    "def one_hot_encode_values(data_map, values_map):\n",
    "    for k, v in data_map.items():\n",
    "        data_map[k] = values_map[v]\n",
    "    return data_map"
   ],
   "metadata": {
    "collapsed": false,
    "pycharm": {
     "name": "#%%\n"
    }
   }
  },
  {
   "cell_type": "code",
   "execution_count": 8,
   "outputs": [
    {
     "name": "stdout",
     "output_type": "stream",
     "text": [
      "{'joy': 0.0, 'anger': 1.0}\n"
     ]
    }
   ],
   "source": [
    "one_hot_encoded_values_map = one_hot_encode_values_map_fn(data)\n",
    "one_hot_encode_values(data, one_hot_encoded_values_map)\n",
    "pass"
   ],
   "metadata": {
    "collapsed": false,
    "pycharm": {
     "name": "#%%\n"
    }
   }
  },
  {
   "cell_type": "code",
   "execution_count": 9,
   "outputs": [
    {
     "name": "stdout",
     "output_type": "stream",
     "text": [
      "loaded 970 items\n",
      "{'joy': 0.0, 'anger': 1.0}\n"
     ]
    }
   ],
   "source": [
    "data_test = load_data(\"test.txt\")\n",
    "one_hot_encoded_values_map = one_hot_encode_values_map_fn(data_test)\n",
    "one_hot_encode_values(data_test, one_hot_encoded_values_map)\n",
    "pass"
   ],
   "metadata": {
    "collapsed": false,
    "pycharm": {
     "name": "#%%\n"
    }
   }
  },
  {
   "cell_type": "markdown",
   "source": [
    "Observations: Clearly the labeling process had ambiguities -- there is no clear seperation here between conversational and mood.\n",
    "Will still try to work with this dataset then speculate when appropriate."
   ],
   "metadata": {
    "collapsed": false,
    "pycharm": {
     "name": "#%% md\n"
    }
   }
  },
  {
   "cell_type": "markdown",
   "source": [
    "Since all our data fits in memory and the dataset isn't enormous this should train relatively quickly"
   ],
   "metadata": {
    "collapsed": false,
    "pycharm": {
     "name": "#%% md\n"
    }
   }
  },
  {
   "cell_type": "markdown",
   "source": [
    "Create our naive nlp model without too many optimizations"
   ],
   "metadata": {
    "collapsed": false,
    "pycharm": {
     "name": "#%% md\n"
    }
   }
  },
  {
   "cell_type": "code",
   "execution_count": 10,
   "outputs": [],
   "source": [
    "VOCAB_SIZE = 1500\n",
    "encoder = tf.keras.layers.TextVectorization(max_tokens=VOCAB_SIZE)\n",
    "encoder.adapt(list(data.keys()))"
   ],
   "metadata": {
    "collapsed": false,
    "pycharm": {
     "name": "#%%\n"
    }
   }
  },
  {
   "cell_type": "code",
   "execution_count": 11,
   "outputs": [],
   "source": [
    "vocab = np.array(encoder.get_vocabulary())"
   ],
   "metadata": {
    "collapsed": false,
    "pycharm": {
     "name": "#%%\n"
    }
   }
  },
  {
   "cell_type": "code",
   "execution_count": 12,
   "outputs": [
    {
     "data": {
      "text/plain": "array(['', '[UNK]', 'i', 'feel', 'and', 'to', 'the', 'a', 'that', 'of',\n       'feeling', 'my', 'in', 'it', 'like', 'im', 'so', 'is', 'have',\n       'for'], dtype='<U13')"
     },
     "execution_count": 12,
     "metadata": {},
     "output_type": "execute_result"
    }
   ],
   "source": [
    "vocab[:20]"
   ],
   "metadata": {
    "collapsed": false,
    "pycharm": {
     "name": "#%%\n"
    }
   }
  },
  {
   "cell_type": "code",
   "execution_count": 13,
   "outputs": [
    {
     "name": "stdout",
     "output_type": "stream",
     "text": [
      "tf.Tensor([  2  71  13  84   6   1  45   9 175   5   3 336], shape=(12,), dtype=int64) \n",
      " i think it s the easiest time of year to feel dissatisfied\n"
     ]
    }
   ],
   "source": [
    "encoded_line = encoder(sample_k)\n",
    "print(encoded_line, '\\n', sample_k)"
   ],
   "metadata": {
    "collapsed": false,
    "pycharm": {
     "name": "#%%\n"
    }
   }
  },
  {
   "cell_type": "code",
   "execution_count": 14,
   "outputs": [],
   "source": [
    "\n",
    "def create_original(encoded_line: tf.Tensor):\n",
    "    round_trip = []\n",
    "    for num in encoded_line.numpy():\n",
    "        round_trip.append(vocab[num])\n",
    "    return \" \".join(round_trip)\n",
    "\n",
    "def show_samples(n, iter):\n",
    "    for i in range(n):\n",
    "        gt_str = next(iter)\n",
    "        encoded_line = encoder(gt_str)\n",
    "        print(encoded_line.numpy())\n",
    "        original = create_original(encoded_line)\n",
    "        print(original)\n",
    "        print(gt_str)"
   ],
   "metadata": {
    "collapsed": false,
    "pycharm": {
     "name": "#%%\n"
    }
   }
  },
  {
   "cell_type": "code",
   "execution_count": 15,
   "outputs": [
    {
     "name": "stdout",
     "output_type": "stream",
     "text": [
      "[   2   18    1    1   21    6  828  271   23   28    7  815    1 1456\n",
      "  202    5  176   45    5  247   12    6    1    9   81    4   21  101\n",
      " 1337    9   69    1  225  494    7    1    1   22  132    7   67  300]\n",
      "i have [UNK] [UNK] with the general point but as a possible [UNK] writer trying to find time to write in the [UNK] of life and with no sign of an [UNK] let alone a [UNK] [UNK] this feels a little precious\n",
      "i have immense sympathy with the general point but as a possible proto writer trying to find time to write in the corners of life and with no sign of an agent let alone a publishing contract this feels a little precious\n",
      "[   2   39   27    3  470 1212   17   30  253  508]\n",
      "i do not feel reassured anxiety is on each side\n",
      "i do not feel reassured anxiety is on each side\n",
      "[  2   3 302   4   1 196 317 153 169  36 423 169]\n",
      "i feel irritated and [UNK] without anyone doing anything or saying anything\n",
      "i feel irritated and rejected without anyone doing anything or saying anything\n",
      "[  2  18   6  10  97  25 515   4 572]\n",
      "i have the feeling she was amused and delighted\n",
      "i have the feeling she was amused and delighted\n"
     ]
    }
   ],
   "source": [
    "show_samples(4, data_iter)"
   ],
   "metadata": {
    "collapsed": false,
    "pycharm": {
     "name": "#%%\n"
    }
   }
  },
  {
   "cell_type": "markdown",
   "source": [
    "Our TextVectorization layer adapted and encoded our strings for us"
   ],
   "metadata": {
    "collapsed": false,
    "pycharm": {
     "name": "#%% md\n"
    }
   }
  },
  {
   "cell_type": "code",
   "execution_count": 16,
   "outputs": [],
   "source": [
    "def create_model():\n",
    "    input = tf.keras.Input((1,), dtype=tf.dtypes.string)\n",
    "    layer = encoder(input)\n",
    "    layer = tf.keras.layers.Embedding(input_dim=len(encoder.get_vocabulary()),\n",
    "                                      output_dim=64,\n",
    "                                      mask_zero=True)(layer)\n",
    "    layer = tf.keras.layers.Bidirectional(layer=tf.keras.layers.LSTM(units=64))(layer)\n",
    "    layer = tf.keras.layers.Dense(64, activation=\"relu\")(layer)\n",
    "    layer = tf.keras.layers.Dense(1)(layer)\n",
    "\n",
    "    return tf.keras.Model(inputs=input, outputs=layer, name=\"nlp_rnn_classifier\")"
   ],
   "metadata": {
    "collapsed": false,
    "pycharm": {
     "name": "#%%\n"
    }
   }
  },
  {
   "cell_type": "code",
   "execution_count": 17,
   "outputs": [],
   "source": [
    "model = create_model()"
   ],
   "metadata": {
    "collapsed": false,
    "pycharm": {
     "name": "#%%\n"
    }
   }
  },
  {
   "cell_type": "code",
   "execution_count": 18,
   "outputs": [
    {
     "data": {
      "text/plain": "<keras.engine.functional.Functional at 0x1d4b999e100>"
     },
     "execution_count": 18,
     "metadata": {},
     "output_type": "execute_result"
    }
   ],
   "source": [
    "model"
   ],
   "metadata": {
    "collapsed": false,
    "pycharm": {
     "name": "#%%\n"
    }
   }
  },
  {
   "cell_type": "code",
   "execution_count": 19,
   "outputs": [
    {
     "data": {
      "image/png": "[encoded data removed]",
      "text/plain": "<IPython.core.display.Image object>"
     },
     "execution_count": 19,
     "metadata": {},
     "output_type": "execute_result"
    }
   ],
   "source": [
    "tf.keras.utils.plot_model(model,\n",
    "                          show_shapes=True,\n",
    "                          expand_nested=True,\n",
    "                          show_layer_activations=True,\n",
    "                          show_dtype=True)"
   ],
   "metadata": {
    "collapsed": false,
    "pycharm": {
     "name": "#%%\n"
    }
   }
  },
  {
   "cell_type": "code",
   "execution_count": 20,
   "outputs": [],
   "source": [
    "sample_text = \"the sun was shining and i am in a happy mood.\""
   ],
   "metadata": {
    "collapsed": false,
    "pycharm": {
     "name": "#%%\n"
    }
   }
  },
  {
   "cell_type": "code",
   "execution_count": 21,
   "outputs": [
    {
     "data": {
      "text/plain": "array(['the sun was shining and i am in a happy mood.'], dtype='<U45')"
     },
     "execution_count": 21,
     "metadata": {},
     "output_type": "execute_result"
    }
   ],
   "source": [
    "np.array([sample_text])"
   ],
   "metadata": {
    "collapsed": false,
    "pycharm": {
     "name": "#%%\n"
    }
   }
  },
  {
   "cell_type": "code",
   "execution_count": 22,
   "outputs": [
    {
     "name": "stdout",
     "output_type": "stream",
     "text": [
      "1/1 [==============================] - 1s 1s/step\n"
     ]
    }
   ],
   "source": [
    "predictions = model.predict(np.array([sample_text]))"
   ],
   "metadata": {
    "collapsed": false,
    "pycharm": {
     "name": "#%%\n"
    }
   }
  },
  {
   "cell_type": "code",
   "execution_count": 23,
   "outputs": [
    {
     "data": {
      "text/plain": "array([[-0.00069366]], dtype=float32)"
     },
     "execution_count": 23,
     "metadata": {},
     "output_type": "execute_result"
    }
   ],
   "source": [
    "predictions"
   ],
   "metadata": {
    "collapsed": false,
    "pycharm": {
     "name": "#%%\n"
    }
   }
  },
  {
   "cell_type": "code",
   "execution_count": 24,
   "outputs": [
    {
     "name": "stdout",
     "output_type": "stream",
     "text": [
      "[True, False, True, True, True, True]\n"
     ]
    }
   ],
   "source": [
    "print([layer.supports_masking for layer in model.layers])"
   ],
   "metadata": {
    "collapsed": false,
    "pycharm": {
     "name": "#%%\n"
    }
   }
  },
  {
   "cell_type": "code",
   "execution_count": 25,
   "outputs": [],
   "source": [
    "loss_function = tf.keras.losses.BinaryCrossentropy(from_logits=True)\n",
    "#loss_function = tf.keras.losses.CategoricalCrossentropy(from_logits=True)\n",
    "#loss_function = tf.keras.losses.MeanSquaredError()\n",
    "\n",
    "# not too afraid of the gradients with this dataset\n",
    "optimizer = tf.keras.optimizers.Adam(0.001)"
   ],
   "metadata": {
    "collapsed": false,
    "pycharm": {
     "name": "#%%\n"
    }
   }
  },
  {
   "cell_type": "code",
   "execution_count": 26,
   "outputs": [],
   "source": [
    "model.compile(loss=loss_function,\n",
    "              optimizer=optimizer,\n",
    "              metrics=['accuracy'])"
   ],
   "metadata": {
    "collapsed": false,
    "pycharm": {
     "name": "#%%\n"
    }
   }
  },
  {
   "cell_type": "code",
   "execution_count": 27,
   "outputs": [
    {
     "name": "stdout",
     "output_type": "stream",
     "text": [
      "Epoch 1/10\n",
      "235/235 [==============================] - 10s 29ms/step - loss: 0.3327 - accuracy: 0.8396 - val_loss: 0.1108 - val_accuracy: 0.9660\n",
      "Epoch 2/10\n",
      "235/235 [==============================] - 4s 17ms/step - loss: 0.0599 - accuracy: 0.9798 - val_loss: 0.0834 - val_accuracy: 0.9742\n",
      "Epoch 3/10\n",
      "235/235 [==============================] - 4s 17ms/step - loss: 0.0350 - accuracy: 0.9872 - val_loss: 0.0931 - val_accuracy: 0.9722\n",
      "Epoch 4/10\n",
      "235/235 [==============================] - 4s 18ms/step - loss: 0.0262 - accuracy: 0.9916 - val_loss: 0.1104 - val_accuracy: 0.9670\n",
      "Epoch 5/10\n",
      "235/235 [==============================] - 4s 18ms/step - loss: 0.0170 - accuracy: 0.9944 - val_loss: 0.0994 - val_accuracy: 0.9660\n",
      "Epoch 6/10\n",
      "235/235 [==============================] - 4s 17ms/step - loss: 0.0160 - accuracy: 0.9943 - val_loss: 0.0900 - val_accuracy: 0.9763\n",
      "Epoch 7/10\n",
      "235/235 [==============================] - 4s 18ms/step - loss: 0.0129 - accuracy: 0.9945 - val_loss: 0.1032 - val_accuracy: 0.9773\n",
      "Epoch 8/10\n",
      "235/235 [==============================] - 5s 19ms/step - loss: 0.0083 - accuracy: 0.9968 - val_loss: 0.0994 - val_accuracy: 0.9804\n",
      "Epoch 9/10\n",
      "235/235 [==============================] - 6s 25ms/step - loss: 0.0020 - accuracy: 0.9993 - val_loss: 0.1096 - val_accuracy: 0.9814\n",
      "Epoch 10/10\n",
      "235/235 [==============================] - 5s 22ms/step - loss: 9.7273e-04 - accuracy: 0.9996 - val_loss: 0.1253 - val_accuracy: 0.9825\n"
     ]
    }
   ],
   "source": [
    "history = model.fit(x=tf.convert_to_tensor(np.asarray(list(data.keys()))),\n",
    "                    y=tf.convert_to_tensor(np.asarray(list(data.values()))),\n",
    "                    validation_data=(list(data_test.keys()), list(data_test.values())),\n",
    "                    validation_steps=30,\n",
    "                    epochs=10)"
   ],
   "metadata": {
    "collapsed": false,
    "pycharm": {
     "name": "#%%\n"
    }
   }
  },
  {
   "cell_type": "code",
   "execution_count": 28,
   "outputs": [],
   "source": [
    "def plot_graphs(history, metric):\n",
    "  plt.plot(history.history[metric])\n",
    "  plt.plot(history.history['val_'+metric], '')\n",
    "  plt.xlabel(\"Epochs\")\n",
    "  plt.ylabel(metric)\n",
    "  plt.legend([metric, 'val_'+metric])"
   ],
   "metadata": {
    "collapsed": false,
    "pycharm": {
     "name": "#%%\n"
    }
   }
  },
  {
   "cell_type": "code",
   "execution_count": 29,
   "outputs": [
    {
     "data": {
      "text/plain": "(0.0, 1.0075997352600097)"
     },
     "execution_count": 29,
     "metadata": {},
     "output_type": "execute_result"
    },
    {
     "data": {
      "text/plain": "<Figure size 1152x576 with 2 Axes>",
      "image/png": "[encoded data removed]"
     },
     "metadata": {
      "needs_background": "light"
     },
     "output_type": "display_data"
    }
   ],
   "source": [
    "plt.figure(figsize=(16,8))\n",
    "plt.subplot(1, 2, 1)\n",
    "plot_graphs(history, 'accuracy')\n",
    "plt.ylim(None, 1)\n",
    "plt.subplot(1, 2, 2)\n",
    "plot_graphs(history, 'accuracy')\n",
    "plt.ylim(0, None)"
   ],
   "metadata": {
    "collapsed": false,
    "pycharm": {
     "name": "#%%\n"
    }
   }
  },
  {
   "cell_type": "code",
   "execution_count": 30,
   "outputs": [
    {
     "name": "stdout",
     "output_type": "stream",
     "text": [
      "Model: \"nlp_rnn_classifier\"\n",
      "_________________________________________________________________\n",
      " Layer (type)                Output Shape              Param #   \n",
      "=================================================================\n",
      " input_1 (InputLayer)        [(None, 1)]               0         \n",
      "                                                                 \n",
      " text_vectorization (TextVec  (None, None)             0         \n",
      " torization)                                                     \n",
      "                                                                 \n",
      " embedding (Embedding)       (None, None, 64)          96000     \n",
      "                                                                 \n",
      " bidirectional (Bidirectiona  (None, 128)              66048     \n",
      " l)                                                              \n",
      "                                                                 \n",
      " dense (Dense)               (None, 64)                8256      \n",
      "                                                                 \n",
      " dense_1 (Dense)             (None, 1)                 65        \n",
      "                                                                 \n",
      "=================================================================\n",
      "Total params: 170,369\n",
      "Trainable params: 170,369\n",
      "Non-trainable params: 0\n",
      "_________________________________________________________________\n"
     ]
    }
   ],
   "source": [
    "model.summary()"
   ],
   "metadata": {
    "collapsed": false,
    "pycharm": {
     "name": "#%%\n"
    }
   }
  },
  {
   "cell_type": "code",
   "execution_count": 31,
   "outputs": [],
   "source": [
    "model.save_weights('./models/joy_and_anger')"
   ],
   "metadata": {
    "collapsed": false,
    "pycharm": {
     "name": "#%%\n"
    }
   }
  },
  {
   "cell_type": "code",
   "execution_count": 32,
   "outputs": [
    {
     "name": "stderr",
     "output_type": "stream",
     "text": [
      "WARNING:absl:Found untraced functions such as lstm_cell_1_layer_call_fn, lstm_cell_1_layer_call_and_return_conditional_losses, lstm_cell_2_layer_call_fn, lstm_cell_2_layer_call_and_return_conditional_losses while saving (showing 4 of 4). These functions will not be directly callable after loading.\n"
     ]
    },
    {
     "name": "stdout",
     "output_type": "stream",
     "text": [
      "INFO:tensorflow:Assets written to: ./models/joy_and_anger_entire\\assets\n"
     ]
    },
    {
     "name": "stderr",
     "output_type": "stream",
     "text": [
      "INFO:tensorflow:Assets written to: ./models/joy_and_anger_entire\\assets\n"
     ]
    }
   ],
   "source": [
    "model.save('./models/joy_and_anger_entire')"
   ],
   "metadata": {
    "collapsed": false,
    "pycharm": {
     "name": "#%%\n"
    }
   }
  },
  {
   "cell_type": "code",
   "execution_count": 34,
   "outputs": [
    {
     "name": "stdout",
     "output_type": "stream",
     "text": [
      "1/1 [==============================] - 2s 2s/step\n"
     ]
    },
    {
     "data": {
      "text/plain": "array([[-15.938878]], dtype=float32)"
     },
     "execution_count": 34,
     "metadata": {},
     "output_type": "execute_result"
    }
   ],
   "source": [
    "model.predict([\"great weather were having today\"])"
   ],
   "metadata": {
    "collapsed": false,
    "pycharm": {
     "name": "#%%\n"
    }
   }
  },
  {
   "cell_type": "code",
   "execution_count": 35,
   "outputs": [
    {
     "name": "stdout",
     "output_type": "stream",
     "text": [
      "1/1 [==============================] - 0s 24ms/step\n"
     ]
    },
    {
     "data": {
      "text/plain": "array([[-1.1554629]], dtype=float32)"
     },
     "execution_count": 35,
     "metadata": {},
     "output_type": "execute_result"
    }
   ],
   "source": [
    "model.predict([\"i hate you\"])"
   ],
   "metadata": {
    "collapsed": false,
    "pycharm": {
     "name": "#%%\n"
    }
   }
  },
  {
   "cell_type": "code",
   "execution_count": 36,
   "outputs": [
    {
     "name": "stdout",
     "output_type": "stream",
     "text": [
      "1/1 [==============================] - 0s 23ms/step\n"
     ]
    },
    {
     "data": {
      "text/plain": "array([[0.4448369]], dtype=float32)"
     },
     "execution_count": 36,
     "metadata": {},
     "output_type": "execute_result"
    }
   ],
   "source": [
    "model.predict([\"oh whatever\"])"
   ],
   "metadata": {
    "collapsed": false,
    "pycharm": {
     "name": "#%%\n"
    }
   }
  },
  {
   "cell_type": "code",
   "execution_count": 37,
   "outputs": [
    {
     "name": "stdout",
     "output_type": "stream",
     "text": [
      "1/1 [==============================] - 0s 22ms/step\n"
     ]
    },
    {
     "data": {
      "text/plain": "array([[4.820001]], dtype=float32)"
     },
     "execution_count": 37,
     "metadata": {},
     "output_type": "execute_result"
    }
   ],
   "source": [
    "model.predict([\"cotton candy and ferris wheels\"])"
   ],
   "metadata": {
    "collapsed": false,
    "pycharm": {
     "name": "#%%\n"
    }
   }
  },
  {
   "cell_type": "code",
   "execution_count": 39,
   "outputs": [
    {
     "name": "stdout",
     "output_type": "stream",
     "text": [
      "1/1 [==============================] - 0s 24ms/step\n"
     ]
    },
    {
     "data": {
      "text/plain": "array([[-7.112743]], dtype=float32)"
     },
     "execution_count": 39,
     "metadata": {},
     "output_type": "execute_result"
    }
   ],
   "source": [
    "model.predict([\"thanks for the support\"])"
   ],
   "metadata": {
    "collapsed": false,
    "pycharm": {
     "name": "#%%\n"
    }
   }
  },
  {
   "cell_type": "code",
   "execution_count": null,
   "outputs": [],
   "source": [],
   "metadata": {
    "collapsed": false,
    "pycharm": {
     "name": "#%%\n"
    }
   }
  }
 ],
 "metadata": {
  "kernelspec": {
   "display_name": "Python 3",
   "language": "python",
   "name": "python3"
  },
  "language_info": {
   "codemirror_mode": {
    "name": "ipython",
    "version": 2
   },
   "file_extension": ".py",
   "mimetype": "text/x-python",
   "name": "python",
   "nbconvert_exporter": "python",
   "pygments_lexer": "ipython2",
   "version": "2.7.6"
  }
 },
 "nbformat": 4,
 "nbformat_minor": 0
}
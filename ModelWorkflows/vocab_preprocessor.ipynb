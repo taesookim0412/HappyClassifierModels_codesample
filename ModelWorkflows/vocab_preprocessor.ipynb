{
 "cells": [
  {
   "cell_type": "code",
   "execution_count": null,
   "metadata": {
    "collapsed": true,
    "pycharm": {
     "name": "#%%\n"
    }
   },
   "outputs": [],
   "source": []
  },
  {
   "cell_type": "code",
   "execution_count": 1,
   "outputs": [],
   "source": [
    "import re\n",
    "\n",
    "_patterns = [r'\\'',\n",
    "             r'\\\"',\n",
    "             r'\\.',\n",
    "             r'<br \\/>',\n",
    "             r',',\n",
    "             r'\\(',\n",
    "             r'\\)',\n",
    "             r'\\!',\n",
    "             r'\\?',\n",
    "             r'\\;',\n",
    "             r'\\:',\n",
    "             r'\\s+']\n",
    "\n",
    "_replacements = [' \\'  ',\n",
    "                 '',\n",
    "                 ' . ',\n",
    "                 ' ',\n",
    "                 ' , ',\n",
    "                 ' ( ',\n",
    "                 ' ) ',\n",
    "                 ' ! ',\n",
    "                 ' ? ',\n",
    "                 ' ',\n",
    "                 ' ',\n",
    "                 ' ']\n",
    "\n",
    "_patterns_dict = list((re.compile(p), r) for p, r in zip(_patterns, _replacements))"
   ],
   "metadata": {
    "collapsed": false,
    "pycharm": {
     "name": "#%%\n"
    }
   }
  },
  {
   "cell_type": "code",
   "execution_count": 2,
   "outputs": [
    {
     "data": {
      "text/plain": "[(re.compile(r\"\\'\", re.UNICODE), \" '  \"),\n (re.compile(r'\\\"', re.UNICODE), ''),\n (re.compile(r'\\.', re.UNICODE), ' . '),\n (re.compile(r'<br \\/>', re.UNICODE), ' '),\n (re.compile(r',', re.UNICODE), ' , '),\n (re.compile(r'\\(', re.UNICODE), ' ( '),\n (re.compile(r'\\)', re.UNICODE), ' ) '),\n (re.compile(r'\\!', re.UNICODE), ' ! '),\n (re.compile(r'\\?', re.UNICODE), ' ? '),\n (re.compile(r'\\;', re.UNICODE), ' '),\n (re.compile(r'\\:', re.UNICODE), ' '),\n (re.compile(r'\\s+', re.UNICODE), ' ')]"
     },
     "execution_count": 2,
     "metadata": {},
     "output_type": "execute_result"
    }
   ],
   "source": [
    "_patterns_dict"
   ],
   "metadata": {
    "collapsed": false,
    "pycharm": {
     "name": "#%%\n"
    }
   }
  },
  {
   "cell_type": "code",
   "execution_count": null,
   "outputs": [],
   "source": [],
   "metadata": {
    "collapsed": false,
    "pycharm": {
     "name": "#%%\n"
    }
   }
  }
 ],
 "metadata": {
  "kernelspec": {
   "display_name": "Python 3",
   "language": "python",
   "name": "python3"
  },
  "language_info": {
   "codemirror_mode": {
    "name": "ipython",
    "version": 2
   },
   "file_extension": ".py",
   "mimetype": "text/x-python",
   "name": "python",
   "nbconvert_exporter": "python",
   "pygments_lexer": "ipython2",
   "version": "2.7.6"
  }
 },
 "nbformat": 4,
 "nbformat_minor": 0
}